{
 "cells": [
  {
   "cell_type": "markdown",
   "metadata": {},
   "source": [
    "## Class for XY "
   ]
  },
  {
   "cell_type": "code",
   "execution_count": 1,
   "metadata": {},
   "outputs": [
    {
     "ename": "SyntaxError",
     "evalue": "invalid syntax (2582243032.py, line 16)",
     "output_type": "error",
     "traceback": [
      "\u001b[1;36m  Input \u001b[1;32mIn [1]\u001b[1;36m\u001b[0m\n\u001b[1;33m    if isinstance(value: str):\u001b[0m\n\u001b[1;37m                       ^\u001b[0m\n\u001b[1;31mSyntaxError\u001b[0m\u001b[1;31m:\u001b[0m invalid syntax\n"
     ]
    }
   ],
   "source": [
    "import math #imports math lib \n",
    "from __future__ import annotations # importes so that I can use float|int as class attributes, recieved error without it\n",
    "\n",
    "class Positions:\n",
    "    def __init__(self, x: float|int, y: float|int): \n",
    "        self._x = x\n",
    "        self._y = y\n",
    "\n",
    "    @property\n",
    "    def x(self) -> float|int:\n",
    "        return self._x\n",
    "    \n",
    "    @x.setter\n",
    "    def x(self, value: float|int):\n",
    "        #raises TypeError if value is a str\n",
    "        if isinstance(value: str):\n",
    "            raise TypeError(\"Value cannot be a string\")\n",
    "        self._x = value\n",
    "    \n",
    "    @property\n",
    "    def y(self) -> float|int:\n",
    "        return self._y\n",
    "    \n",
    "    @y.setter\n",
    "    def y(self, value):\n",
    "        if isinstance(value: str):\n",
    "            raise TypeError(\"Value cannot be a string\")\n",
    "        self._y = value\n",
    "\n",
    "#  likhet ==\n",
    "    def __eq__(self, other: object) -> bool:\n",
    "        pass\n",
    "# jämför < \n",
    "    def __lt__ (self, other): # special method \"less than\"\n",
    "        pass\n",
    "# <=\n",
    "    def __le__(self, other): # special method less than or equal to\n",
    "        pass\n",
    "\n",
    "# __repr__\n",
    "    def __repr__(self) -> str:\n",
    "        pass\n",
    "# __str__()\n",
    "    def __str__(self) -> str:\n",
    "        pass\n",
    "\n"
   ]
  },
  {
   "cell_type": "markdown",
   "metadata": {},
   "source": [
    "## Test av cirkel"
   ]
  },
  {
   "cell_type": "code",
   "execution_count": 3,
   "metadata": {},
   "outputs": [
    {
     "name": "stdout",
     "output_type": "stream",
     "text": [
      "circle1.area=28.274333882308138\n",
      "circle1.circumfence =18.84955592153876\n"
     ]
    }
   ],
   "source": [
    "import math\n",
    "from __future__ import annotations # importes so that I can use float|int as class attributes, recieved error without it\n",
    "\n",
    "class Circle:\n",
    "    def __init__ (self, radius):\n",
    "        self._radius = radius\n",
    "    @property\n",
    "    def area(self):\n",
    "        return (self._radius**2) * math.pi\n",
    "    \n",
    "    @property\n",
    "    def circumfence(self):\n",
    "        return (self._radius + self._radius) * math.pi\n",
    "    \n",
    "    #enhetscirkel (x = 0, y = 0 , radie = 1)\n",
    "\n",
    "circle1 = Circle(3)\n",
    "print(f\"{circle1.area=}\") \n",
    "print(f\"{circle1.circumfence =}\")\n",
    "\n"
   ]
  },
  {
   "cell_type": "markdown",
   "metadata": {},
   "source": [
    "## Test av rektangle"
   ]
  },
  {
   "cell_type": "code",
   "execution_count": 13,
   "metadata": {},
   "outputs": [
    {
     "name": "stdout",
     "output_type": "stream",
     "text": [
      "rec1.area=8\n",
      "rec1.circumfence =12\n"
     ]
    }
   ],
   "source": [
    "\n",
    "class Rectangle:\n",
    "    def __init__(self, width, length):\n",
    "        self._width = width \n",
    "        self._length = length \n",
    "\n",
    "    @property\n",
    "    def area(self):\n",
    "        return self._width*self._length\n",
    "    \n",
    "    @property\n",
    "    def circumfence(self):\n",
    "        return (self._width*2) + (self._length*2)\n",
    "\n",
    "# Kvadrat? width == length \n",
    "\n",
    "rec1 = Rectangle(4,2)\n",
    "print(f\"{rec1.area=}\") \n",
    "print(f\"{rec1.circumfence =}\")"
   ]
  }
 ],
 "metadata": {
  "kernelspec": {
   "display_name": "Python 3.9.13 64-bit",
   "language": "python",
   "name": "python3"
  },
  "language_info": {
   "codemirror_mode": {
    "name": "ipython",
    "version": 3
   },
   "file_extension": ".py",
   "mimetype": "text/x-python",
   "name": "python",
   "nbconvert_exporter": "python",
   "pygments_lexer": "ipython3",
   "version": "3.9.13"
  },
  "orig_nbformat": 4,
  "vscode": {
   "interpreter": {
    "hash": "69585d2715d1f206b6517a2162f54eebbf116517b0fd67b4cd31f43725ed07a5"
   }
  }
 },
 "nbformat": 4,
 "nbformat_minor": 2
}
