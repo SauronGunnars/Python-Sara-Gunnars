{
 "cells": [
  {
   "cell_type": "markdown",
   "metadata": {},
   "source": [
    "## Class for XY "
   ]
  },
  {
   "cell_type": "code",
   "execution_count": 1,
   "metadata": {},
   "outputs": [],
   "source": [
    "import math #imports math lib \n",
    "from __future__ import annotations # importes so that I can use float|int as class attributes, recieved error without it\n",
    "\n",
    "class Positions:\n",
    "    def __init__(self, x: float|int, y: float|int): \n",
    "        self._x = x\n",
    "        self._y = y\n",
    "\n",
    "    @property\n",
    "    def x(self) -> float|int:\n",
    "        return self._x\n",
    "    \n",
    "    @x.setter\n",
    "    def x(self, value: float|int):\n",
    "        #raises TypeError if value is a str\n",
    "        if isinstance(value, str):\n",
    "            raise TypeError(\"Value cannot be a string\")\n",
    "        self._x = value\n",
    "    \n",
    "    @property\n",
    "    def y(self) -> float|int:\n",
    "        return self._y\n",
    "    \n",
    "    @y.setter\n",
    "    def y(self, value: float|int):\n",
    "        if isinstance(value, str):\n",
    "            raise TypeError(\"Value cannot be a string\")\n",
    "        self._y = value\n",
    "\n",
    "#  likhet ==\n",
    "    def __eq__(self, other):\n",
    "        return (self.x, self.y) == (other.x, other.y)\n",
    "# jämför < \n",
    "    def __lt__ (self, other): # special method \"less than\"\n",
    "        return (self.x, self.y )< (other.x, other.y)\n",
    "# mindre eller lika <=\n",
    "    def __le__(self, other): # special method less than or equal to\n",
    "        return (self.x, self.y ) <= (other.x, other.y)\n",
    "   \n",
    "\n",
    "\n",
    "# Translate method\n",
    "\n"
   ]
  },
  {
   "cell_type": "code",
   "execution_count": 7,
   "metadata": {},
   "outputs": [
    {
     "name": "stdout",
     "output_type": "stream",
     "text": [
      "True\n"
     ]
    },
    {
     "ename": "AttributeError",
     "evalue": "'Positions' object has no attribute 'distance'",
     "output_type": "error",
     "traceback": [
      "\u001b[1;31m---------------------------------------------------------------------------\u001b[0m",
      "\u001b[1;31mAttributeError\u001b[0m                            Traceback (most recent call last)",
      "Cell \u001b[1;32mIn [7], line 6\u001b[0m\n\u001b[0;32m      2\u001b[0m pos2 \u001b[39m=\u001b[39m Positions(\u001b[39m1\u001b[39m,\u001b[39m3\u001b[39m)\n\u001b[0;32m      5\u001b[0m \u001b[39mprint\u001b[39m(pos1 \u001b[39m<\u001b[39m\u001b[39m=\u001b[39m pos2)\n\u001b[1;32m----> 6\u001b[0m \u001b[39mprint\u001b[39m(pos1\u001b[39m.\u001b[39;49mdistance())\n",
      "\u001b[1;31mAttributeError\u001b[0m: 'Positions' object has no attribute 'distance'"
     ]
    }
   ],
   "source": [
    "pos1 = Positions(1,2)\n",
    "pos2 = Positions(1,3)\n",
    "\n",
    "\n",
    "print(pos1 <= pos2)\n",
    "print(pos1.distance())\n"
   ]
  },
  {
   "cell_type": "markdown",
   "metadata": {},
   "source": [
    "## Test av cirkel"
   ]
  },
  {
   "cell_type": "code",
   "execution_count": 16,
   "metadata": {},
   "outputs": [
    {
     "name": "stdout",
     "output_type": "stream",
     "text": [
      "circle1.area=28.274333882308138\n",
      "circle1.circumfence =18.84955592153876\n"
     ]
    }
   ],
   "source": [
    "import math\n",
    "from __future__ import annotations # importes so that I can use float|int as class attributes, recieved error without it\n",
    "\n",
    "class Circle(Positions):\n",
    "\n",
    "    unit_circle = (0, 0, 1)\n",
    "\n",
    "\n",
    "    def __init__ (self, x, y, radius):\n",
    "        super().__init__(x, y) # super() function has the class inherent all the properties and methods from Positions\n",
    "        self._radius = radius\n",
    "\n",
    "    @property\n",
    "    def area(self):\n",
    "        return (self._radius**2) * math.pi\n",
    "    \n",
    "    @property\n",
    "    def circumfence(self):\n",
    "        return (self._radius + self._radius) * math.pi\n",
    "\n",
    "    # __repr__\n",
    "    def __repr__(self) -> str:\n",
    "        pass\n",
    "    # __str__()\n",
    "    def __str__(self) -> str:\n",
    "        pass\n",
    "\n",
    "    # euclidean distance\n",
    "\n",
    "    #unit circle\n",
    "  \n",
    "\n",
    "#ska göras till metod    \n",
    "#unit_circle = Circle(x = 0, y = 0 , radius = 1)\n",
    "\n",
    "\n",
    "circle1 = Circle(x =1, y =2, radius =3)\n",
    "\n",
    "#print(unit_circle == circle1) #false\n",
    "print(f\"{circle1.area=}\") \n",
    "print(f\"{circle1.circumfence =}\")\n",
    "\n"
   ]
  },
  {
   "cell_type": "markdown",
   "metadata": {},
   "source": [
    "## Test av rektangle"
   ]
  },
  {
   "cell_type": "code",
   "execution_count": 26,
   "metadata": {},
   "outputs": [
    {
     "name": "stdout",
     "output_type": "stream",
     "text": [
      "Rectangle has x point: 1, y point: 2, width: 4 and length: 4\n",
      "Rectangel(x point: 1, y point: 2, width: 4 and length: 4)\n",
      "rec1.area=16\n",
      "rec1.circumfence =16\n"
     ]
    }
   ],
   "source": [
    "\n",
    "class Rectangle(Positions):\n",
    "    def __init__(self, x, y, width, length):\n",
    "        super().__init__(x, y)\n",
    "        self._width = width \n",
    "        self._length = length \n",
    "\n",
    "    @property\n",
    "    def area(self):\n",
    "        return self._width*self._length\n",
    "    \n",
    "    @property\n",
    "    def circumfence(self):\n",
    "        return (self._width*2) + (self._length*2)\n",
    "        \n",
    "    # __repr__\n",
    "    def __repr__(self) -> str:\n",
    "        return f'Rectangel(x point: {self.x}, y point: {self.y}, width: {self._width} and length: {self._length})'\n",
    "\n",
    "    # __str__()\n",
    "    def __str__(self) -> str:\n",
    "        return f'Rectangle has x point: {self.x}, y point: {self.y}, width: {self._width} and length: {self._length}'\n",
    "\n",
    "    def square(self, width, length)-> bool: \n",
    "        return self.width  == self.length\n",
    "\n",
    "    # inside of the square?\n",
    "\n",
    "rec1 = Rectangle(1, 2, 4, 4)\n",
    "\n",
    "print(rec1.__str__())\n",
    "print(rec1.__repr__())\n",
    "\n",
    "print(f\"{rec1.area=}\") \n",
    "print(f\"{rec1.circumfence =}\")"
   ]
  }
 ],
 "metadata": {
  "kernelspec": {
   "display_name": "Python 3.9.13 ('Python-Sara-Gunnars-Wt0nYGj6')",
   "language": "python",
   "name": "python3"
  },
  "language_info": {
   "codemirror_mode": {
    "name": "ipython",
    "version": 3
   },
   "file_extension": ".py",
   "mimetype": "text/x-python",
   "name": "python",
   "nbconvert_exporter": "python",
   "pygments_lexer": "ipython3",
   "version": "3.9.13"
  },
  "orig_nbformat": 4,
  "vscode": {
   "interpreter": {
    "hash": "b2da62ab492949f6c765980742279830da6e46079a70cad53173e2beb9ccefa4"
   }
  }
 },
 "nbformat": 4,
 "nbformat_minor": 2
}
