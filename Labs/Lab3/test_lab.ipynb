{
 "cells": [
  {
   "cell_type": "markdown",
   "metadata": {},
   "source": [
    "## Class for XY "
   ]
  },
  {
   "cell_type": "code",
   "execution_count": 34,
   "metadata": {},
   "outputs": [],
   "source": [
    "import math #imports math lib \n",
    "from __future__ import annotations # importes so that I can use float|int as class attributes, recieved error without it\n",
    "\n",
    "class Positions:\n",
    "    def __init__(self, x: float|int, y: float|int): \n",
    "        self._x = x\n",
    "        self._y = y\n",
    "\n",
    "    @property\n",
    "    def x(self) -> float|int:\n",
    "        return self._x\n",
    "    \n",
    "    @x.setter\n",
    "    def x(self, value: float|int):\n",
    "        #raises TypeError if value is a str\n",
    "        if isinstance(value, str):\n",
    "            raise TypeError(\"Value cannot be a string\")\n",
    "        self._x = value\n",
    "    \n",
    "    @property\n",
    "    def y(self) -> float|int:\n",
    "        return self._y\n",
    "    \n",
    "    @y.setter\n",
    "    def y(self, value: float|int):\n",
    "        if isinstance(value, str):\n",
    "            raise TypeError(\"Value cannot be a string\")\n",
    "        self._y = value\n",
    "\n",
    "#  likhet ==\n",
    "    def __eq__(self, other):\n",
    "        return (self.x, self.y) == (other.x, other.y)\n",
    "# jämför < \n",
    "    def __lt__ (self, other): # special method \"less than\"\n",
    "        return (self.x, self.y )< (other.x, other.y)\n",
    "# mindre eller lika <=\n",
    "    def __le__(self, other): # special method less than or equal to\n",
    "        return (self.x, self.y ) <= (other.x, other.y)\n",
    "\n",
    "# Translate method\n",
    "\n"
   ]
  },
  {
   "cell_type": "code",
   "execution_count": 38,
   "metadata": {},
   "outputs": [
    {
     "name": "stdout",
     "output_type": "stream",
     "text": [
      "True\n"
     ]
    }
   ],
   "source": [
    "pos1 = Positions(1,2)\n",
    "pos2 = Positions(1,3)\n",
    "\n",
    "print(pos1 <= pos2)\n"
   ]
  },
  {
   "cell_type": "markdown",
   "metadata": {},
   "source": [
    "## Test av cirkel"
   ]
  },
  {
   "cell_type": "code",
   "execution_count": 37,
   "metadata": {},
   "outputs": [
    {
     "name": "stdout",
     "output_type": "stream",
     "text": [
      "False\n",
      "circle1.area=28.274333882308138\n",
      "circle1.circumfence =18.84955592153876\n"
     ]
    }
   ],
   "source": [
    "import math\n",
    "from __future__ import annotations # importes so that I can use float|int as class attributes, recieved error without it\n",
    "\n",
    "class Circle(Positions):\n",
    "\n",
    "    def __init__ (self, x, y, radius):\n",
    "        super().__init__(x, y) # super() function has the class inherent all the properties and methods from Positions\n",
    "        self._radius = radius\n",
    "\n",
    "    @property\n",
    "    def area(self):\n",
    "        return (self._radius**2) * math.pi\n",
    "    \n",
    "    @property\n",
    "    def circumfence(self):\n",
    "        return (self._radius + self._radius) * math.pi\n",
    "\n",
    "    # __repr__\n",
    "    def __repr__(self) -> str:\n",
    "        pass\n",
    "    # __str__()\n",
    "    def __str__(self) -> str:\n",
    "        pass\n",
    "\n",
    "    # euclidean distance\n",
    "    \n",
    "unit_circle = Circle(x = 0, y = 0 , radius = 1)\n",
    "circle1 = Circle(x =1, y =2, radius =3)\n",
    "\n",
    "print(unit_circle == circle1) #false\n",
    "print(f\"{circle1.area=}\") \n",
    "print(f\"{circle1.circumfence =}\")\n",
    "\n"
   ]
  },
  {
   "cell_type": "markdown",
   "metadata": {},
   "source": [
    "## Test av rektangle"
   ]
  },
  {
   "cell_type": "code",
   "execution_count": 27,
   "metadata": {},
   "outputs": [
    {
     "name": "stdout",
     "output_type": "stream",
     "text": [
      "rec1.area=8\n",
      "rec1.circumfence =12\n"
     ]
    }
   ],
   "source": [
    "\n",
    "class Rectangle(Positions):\n",
    "    def __init__(self, x, y, width, length):\n",
    "        super().__init__(x, y)\n",
    "        self._width = width \n",
    "        self._length = length \n",
    "\n",
    "    @property\n",
    "    def area(self):\n",
    "        return self._width*self._length\n",
    "    \n",
    "    @property\n",
    "    def circumfence(self):\n",
    "        return (self._width*2) + (self._length*2)\n",
    "        \n",
    "    # __repr__\n",
    "    def __repr__(self) -> str:\n",
    "        pass\n",
    "    # __str__()\n",
    "    def __str__(self) -> str:\n",
    "        pass\n",
    "\n",
    "# Kvadrat? width == length \n",
    "# euclidean distance\n",
    "\n",
    "rec1 = Rectangle(x = 1, y = 2, width = 4, length = 2)\n",
    "\n",
    "print(f\"{rec1.area=}\") \n",
    "print(f\"{rec1.circumfence =}\")"
   ]
  }
 ],
 "metadata": {
  "kernelspec": {
   "display_name": "Python 3.9.13 64-bit",
   "language": "python",
   "name": "python3"
  },
  "language_info": {
   "codemirror_mode": {
    "name": "ipython",
    "version": 3
   },
   "file_extension": ".py",
   "mimetype": "text/x-python",
   "name": "python",
   "nbconvert_exporter": "python",
   "pygments_lexer": "ipython3",
   "version": "3.9.13"
  },
  "orig_nbformat": 4,
  "vscode": {
   "interpreter": {
    "hash": "69585d2715d1f206b6517a2162f54eebbf116517b0fd67b4cd31f43725ed07a5"
   }
  }
 },
 "nbformat": 4,
 "nbformat_minor": 2
}
