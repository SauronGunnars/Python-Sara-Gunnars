{
 "cells": [
  {
   "cell_type": "markdown",
   "metadata": {},
   "source": [
    "## Class for Positions"
   ]
  },
  {
   "cell_type": "code",
   "execution_count": 52,
   "metadata": {},
   "outputs": [
    {
     "ename": "SyntaxError",
     "evalue": "invalid syntax (1076057260.py, line 43)",
     "output_type": "error",
     "traceback": [
      "\u001b[1;36m  Cell \u001b[1;32mIn [52], line 43\u001b[1;36m\u001b[0m\n\u001b[1;33m    return (self.x, self.y) += (self.x_move, self.y_move)\u001b[0m\n\u001b[1;37m                            ^\u001b[0m\n\u001b[1;31mSyntaxError\u001b[0m\u001b[1;31m:\u001b[0m invalid syntax\n"
     ]
    }
   ],
   "source": [
    "import math #imports math lib \n",
    "from __future__ import annotations # importes so that I can use float|int as class attributes, recieved error without it\n",
    "\n",
    "class Positions:\n",
    "    def __init__(self, x: float|int, y: float|int): \n",
    "        self._x = x\n",
    "        self._y = y\n",
    " \n",
    "\n",
    "    @property\n",
    "    def x(self) -> float|int:\n",
    "        return self._x\n",
    "    \n",
    "    @x.setter\n",
    "    def x(self, value: float|int):\n",
    "        #raises TypeError if value is a str\n",
    "        if isinstance(value, str):\n",
    "            raise TypeError(\"Value cannot be a string\")\n",
    "        self._x = value\n",
    "    \n",
    "    @property\n",
    "    def y(self) -> float|int:\n",
    "        return self._y\n",
    "    \n",
    "    @y.setter\n",
    "    def y(self, value: float|int):\n",
    "        if isinstance(value, str):\n",
    "            raise TypeError(\"Value cannot be a string\")\n",
    "        self._y = value\n",
    "\n",
    "#  likhet ==\n",
    "    def __eq__(self, other):\n",
    "        return (self.x, self.y) == (other.x, other.y)\n",
    "# jämför < \n",
    "    def __lt__ (self, other): # special method \"less than\"\n",
    "        return (self.x, self.y )< (other.x, other.y)\n",
    "# mindre eller lika <=\n",
    "    def __le__(self, other): # special method less than or equal to\n",
    "        return (self.x, self.y ) <= (other.x, other.y)\n",
    "\n",
    "# translationsmetod för att flytta x och y\n",
    "    def move(self, x_move, y_move):\n",
    "        return (self.x, self.y) += (self.x_move, self.y_move) \n",
    "   \n",
    "\n"
   ]
  },
  {
   "cell_type": "code",
   "execution_count": 38,
   "metadata": {},
   "outputs": [
    {
     "name": "stdout",
     "output_type": "stream",
     "text": [
      "True\n"
     ]
    }
   ],
   "source": [
    "pos1 = Positions(1,2)\n",
    "pos2 = Positions(1,3)\n",
    "\n",
    "\n",
    "print(pos1 <= pos2)\n"
   ]
  },
  {
   "cell_type": "markdown",
   "metadata": {},
   "source": [
    "## Test av circle"
   ]
  },
  {
   "cell_type": "code",
   "execution_count": 49,
   "metadata": {},
   "outputs": [
    {
     "ename": "TypeError",
     "evalue": "__init__() missing 2 required positional arguments: 'x_distance' and 'y_distance'",
     "output_type": "error",
     "traceback": [
      "\u001b[1;31m---------------------------------------------------------------------------\u001b[0m",
      "\u001b[1;31mTypeError\u001b[0m                                 Traceback (most recent call last)",
      "Cell \u001b[1;32mIn [49], line 40\u001b[0m\n\u001b[0;32m     36\u001b[0m             \u001b[39mreturn\u001b[39;00m \u001b[39mTrue\u001b[39;00m\n\u001b[0;32m     37\u001b[0m         \u001b[39mreturn\u001b[39;00m \u001b[39mFalse\u001b[39;00m\n\u001b[1;32m---> 40\u001b[0m circle1 \u001b[39m=\u001b[39m Circle(x \u001b[39m=\u001b[39;49m\u001b[39m0.5\u001b[39;49m, y \u001b[39m=\u001b[39;49m\u001b[39m0.5\u001b[39;49m, radius \u001b[39m=\u001b[39;49m\u001b[39m1\u001b[39;49m)\n\u001b[0;32m     41\u001b[0m \u001b[39mprint\u001b[39m(circle1\u001b[39m.\u001b[39minside_circle(\u001b[39m0.5\u001b[39m, \u001b[39m0.5\u001b[39m)) \n\u001b[0;32m     42\u001b[0m \u001b[39mprint\u001b[39m(\u001b[39mf\u001b[39m\u001b[39m\"\u001b[39m\u001b[39m{\u001b[39;00mcircle1\u001b[39m.\u001b[39mcircumfence \u001b[39m=}\u001b[39;00m\u001b[39m\"\u001b[39m)\n",
      "\u001b[1;31mTypeError\u001b[0m: __init__() missing 2 required positional arguments: 'x_distance' and 'y_distance'"
     ]
    }
   ],
   "source": [
    "import math\n",
    "from __future__ import annotations # importes so that I can use float|int as class attributes, recieved error without it\n",
    "\n",
    "class Circle(Positions):\n",
    "\n",
    "    def __init__ (self, x, y, radius, x_distance, y_distance):\n",
    "        super().__init__(x, y, x_distance, y_distance) # super() function has the class inherent all the properties and methods from Positions\n",
    "        self._radius = radius\n",
    "\n",
    "\n",
    "    @property\n",
    "    def area(self):\n",
    "        return (self._radius**2) * math.pi\n",
    "    \n",
    "    @property\n",
    "    def circumfence(self):\n",
    "        return (self._radius + self._radius) * math.pi\n",
    "\n",
    "    # __repr__\n",
    "    def __repr__(self) -> str:\n",
    "        return f'Circle(x point: {self.x}, y point: {self.y} and radius: {self._radius})'\n",
    "    # __str__()\n",
    "    def __str__(self) -> str:\n",
    "        return f'Circle has x point: {self.x}, y point: {self.y} and radius: {self._radius}'\n",
    "\n",
    "    #euclidean distance to check if points are inside of circle\n",
    "\n",
    "    def inside_circle(self, x_distance, y_distance) -> bool:\n",
    "        eucledian_distance = math.sqrt((self.x - self.x_distance)**2 + (self.y - self.y_distance)**2)\n",
    "        if eucledian_distance < self.radius:\n",
    "            return True\n",
    "        return False\n",
    "\n",
    "    #unit circle\n",
    "    def unit_circle(self):\n",
    "        if self.x == 0 and self.y == 0 and self._radius == 1:\n",
    "            return True\n",
    "        return False\n",
    "  \n",
    "\n",
    "circle1 = Circle(x =0.5, y =0.5, radius =1)\n",
    "print(circle1.inside_circle(0.5, 0.5)) \n",
    "print(f\"{circle1.circumfence =}\")\n",
    "\n"
   ]
  },
  {
   "cell_type": "markdown",
   "metadata": {},
   "source": [
    "## Test rectangle"
   ]
  },
  {
   "cell_type": "code",
   "execution_count": 39,
   "metadata": {},
   "outputs": [
    {
     "name": "stdout",
     "output_type": "stream",
     "text": [
      "Rectangle has x point: 1, y point: 2, width: 4 and length: 4\n",
      "Rectangel(x point: 1, y point: 2, width: 4 and length: 4)\n",
      "rec1.area=16\n",
      "rec1.circumfence =16\n"
     ]
    }
   ],
   "source": [
    "\n",
    "class Rectangle(Positions):\n",
    "    def __init__(self, x, y, width, length):\n",
    "        super().__init__(x, y)\n",
    "        self._width = width \n",
    "        self._length = length \n",
    "\n",
    "    @property\n",
    "    def area(self):\n",
    "        return self._width*self._length\n",
    "    \n",
    "    @property\n",
    "    def circumfence(self):\n",
    "        return (self._width*2) + (self._length*2)\n",
    "        \n",
    "    # __repr__\n",
    "    def __repr__(self) -> str:\n",
    "        return f'Rectangel(x point: {self.x}, y point: {self.y}, width: {self._width} and length: {self._length})'\n",
    "\n",
    "    # __str__()\n",
    "    def __str__(self) -> str:\n",
    "        return f'Rectangle has x point: {self.x}, y point: {self.y}, width: {self._width} and length: {self._length}'\n",
    "\n",
    "    def square(self)-> bool: \n",
    "        return self.width  == self.length\n",
    "\n",
    "    # inside of the square\n",
    "    def inside_square(self):\n",
    "        if self.x < self._width and self.y < self._length:\n",
    "            return True\n",
    "\n",
    "rec1 = Rectangle(1, 2, 4, 4)\n",
    "\n",
    "print(rec1.__str__())\n",
    "print(rec1.__repr__())\n",
    "\n",
    "print(f\"{rec1.area=}\") \n",
    "print(f\"{rec1.circumfence =}\")"
   ]
  }
 ],
 "metadata": {
  "kernelspec": {
   "display_name": "Python 3.9.13 ('Python-Sara-Gunnars-Wt0nYGj6')",
   "language": "python",
   "name": "python3"
  },
  "language_info": {
   "codemirror_mode": {
    "name": "ipython",
    "version": 3
   },
   "file_extension": ".py",
   "mimetype": "text/x-python",
   "name": "python",
   "nbconvert_exporter": "python",
   "pygments_lexer": "ipython3",
   "version": "3.9.13"
  },
  "orig_nbformat": 4,
  "vscode": {
   "interpreter": {
    "hash": "b2da62ab492949f6c765980742279830da6e46079a70cad53173e2beb9ccefa4"
   }
  }
 },
 "nbformat": 4,
 "nbformat_minor": 2
}
