{
 "cells": [
  {
   "cell_type": "markdown",
   "metadata": {},
   "source": [
    "## Class for XY "
   ]
  },
  {
   "cell_type": "code",
   "execution_count": null,
   "metadata": {},
   "outputs": [],
   "source": [
    "import math #imports math lib \n",
    "\n",
    "class Geometry:\n",
    "    def __init__(self,x,y):\n",
    "        self._x = x\n",
    "        self._y = y\n",
    "    \n"
   ]
  },
  {
   "cell_type": "markdown",
   "metadata": {},
   "source": [
    "## Test av cirkel"
   ]
  },
  {
   "cell_type": "code",
   "execution_count": 11,
   "metadata": {},
   "outputs": [
    {
     "name": "stdout",
     "output_type": "stream",
     "text": [
      "circle1.area=50.26548245743669\n",
      "circle1.circumfence =25.132741228718345\n"
     ]
    }
   ],
   "source": [
    "import math\n",
    "\n",
    "# testar Circkelklassen föra tt se att area och omkretsuträkningarna fungerar som dem ska\n",
    "\n",
    "class Circle:\n",
    "    def __init__ (self, radius):\n",
    "        self._radius = radius\n",
    "    @property\n",
    "    def area(self):\n",
    "        return (self._radius**2) * math.pi\n",
    "    \n",
    "    @property\n",
    "    def circumfence(self):\n",
    "        return (self._radius + self._radius) * math.pi\n",
    "\n",
    "circle1 = Circle(4)\n",
    "print(f\"{circle1.area=}\") \n",
    "print(f\"{circle1.circumfence =}\")\n",
    "\n"
   ]
  },
  {
   "cell_type": "markdown",
   "metadata": {},
   "source": [
    "## Test av rektangle"
   ]
  },
  {
   "cell_type": "code",
   "execution_count": 13,
   "metadata": {},
   "outputs": [
    {
     "name": "stdout",
     "output_type": "stream",
     "text": [
      "rec1.area=8\n",
      "rec1.circumfence =12\n"
     ]
    }
   ],
   "source": [
    "# Testar rektangel klasser för att se att uträkning av area och omkrets fungerar som de ska\n",
    "\n",
    "class Rectangle:\n",
    "    def __init__(self, width, length):\n",
    "        self._width = width \n",
    "        self._length = length \n",
    "\n",
    "    @property\n",
    "    def area(self):\n",
    "        return self._width*self._length\n",
    "    \n",
    "    @property\n",
    "    def circumfence(self):\n",
    "        return (self._width*2) + (self._length*2)\n",
    "\n",
    "rec1 = Rectangle(4,2)\n",
    "print(f\"{rec1.area=}\") \n",
    "print(f\"{rec1.circumfence =}\")"
   ]
  }
 ],
 "metadata": {
  "kernelspec": {
   "display_name": "Python 3.9.13 64-bit",
   "language": "python",
   "name": "python3"
  },
  "language_info": {
   "codemirror_mode": {
    "name": "ipython",
    "version": 3
   },
   "file_extension": ".py",
   "mimetype": "text/x-python",
   "name": "python",
   "nbconvert_exporter": "python",
   "pygments_lexer": "ipython3",
   "version": "3.9.13"
  },
  "orig_nbformat": 4,
  "vscode": {
   "interpreter": {
    "hash": "69585d2715d1f206b6517a2162f54eebbf116517b0fd67b4cd31f43725ed07a5"
   }
  }
 },
 "nbformat": 4,
 "nbformat_minor": 2
}
