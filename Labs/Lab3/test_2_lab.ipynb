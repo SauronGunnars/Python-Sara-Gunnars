{
 "cells": [
  {
   "cell_type": "code",
   "execution_count": 9,
   "metadata": {},
   "outputs": [
    {
     "ename": "TypeError",
     "evalue": "X must be a numeric value",
     "output_type": "error",
     "traceback": [
      "\u001b[1;31m---------------------------------------------------------------------------\u001b[0m",
      "\u001b[1;31mTypeError\u001b[0m                                 Traceback (most recent call last)",
      "\u001b[1;32mc:\\Users\\Sara\\Documents\\GitHub\\Python-Sara-Gunnars\\Labs\\Lab3\\test_2_lab.ipynb Cell 1\u001b[0m in \u001b[0;36m<cell line: 49>\u001b[1;34m()\u001b[0m\n\u001b[0;32m     <a href='vscode-notebook-cell:/c%3A/Users/Sara/Documents/GitHub/Python-Sara-Gunnars/Labs/Lab3/test_2_lab.ipynb#W0sZmlsZQ%3D%3D?line=44'>45</a>\u001b[0m     \u001b[39m@property\u001b[39m\n\u001b[0;32m     <a href='vscode-notebook-cell:/c%3A/Users/Sara/Documents/GitHub/Python-Sara-Gunnars/Labs/Lab3/test_2_lab.ipynb#W0sZmlsZQ%3D%3D?line=45'>46</a>\u001b[0m     \u001b[39mdef\u001b[39;00m \u001b[39mcircumfence\u001b[39m(\u001b[39mself\u001b[39m):\n\u001b[0;32m     <a href='vscode-notebook-cell:/c%3A/Users/Sara/Documents/GitHub/Python-Sara-Gunnars/Labs/Lab3/test_2_lab.ipynb#W0sZmlsZQ%3D%3D?line=46'>47</a>\u001b[0m         \u001b[39mreturn\u001b[39;00m (\u001b[39mself\u001b[39m\u001b[39m.\u001b[39m_radius \u001b[39m+\u001b[39m \u001b[39mself\u001b[39m\u001b[39m.\u001b[39m_radius) \u001b[39m*\u001b[39m math\u001b[39m.\u001b[39mpi\n\u001b[1;32m---> <a href='vscode-notebook-cell:/c%3A/Users/Sara/Documents/GitHub/Python-Sara-Gunnars/Labs/Lab3/test_2_lab.ipynb#W0sZmlsZQ%3D%3D?line=48'>49</a>\u001b[0m circle1 \u001b[39m=\u001b[39m Circle(\u001b[39m4\u001b[39;49m, \u001b[39m2\u001b[39;49m, \u001b[39m4\u001b[39;49m)\n\u001b[0;32m     <a href='vscode-notebook-cell:/c%3A/Users/Sara/Documents/GitHub/Python-Sara-Gunnars/Labs/Lab3/test_2_lab.ipynb#W0sZmlsZQ%3D%3D?line=49'>50</a>\u001b[0m \u001b[39mprint\u001b[39m(\u001b[39mf\u001b[39m\u001b[39m\"\u001b[39m\u001b[39m{\u001b[39;00mcircle1\u001b[39m.\u001b[39marea \u001b[39m=}\u001b[39;00m\u001b[39m\"\u001b[39m) \n\u001b[0;32m     <a href='vscode-notebook-cell:/c%3A/Users/Sara/Documents/GitHub/Python-Sara-Gunnars/Labs/Lab3/test_2_lab.ipynb#W0sZmlsZQ%3D%3D?line=50'>51</a>\u001b[0m \u001b[39mprint\u001b[39m(\u001b[39mf\u001b[39m\u001b[39m\"\u001b[39m\u001b[39m{\u001b[39;00mcircle1\u001b[39m.\u001b[39mcircumfence \u001b[39m=}\u001b[39;00m\u001b[39m\"\u001b[39m)\n",
      "\u001b[1;32mc:\\Users\\Sara\\Documents\\GitHub\\Python-Sara-Gunnars\\Labs\\Lab3\\test_2_lab.ipynb Cell 1\u001b[0m in \u001b[0;36mCircle.__init__\u001b[1;34m(self, x, y, radius)\u001b[0m\n\u001b[0;32m      <a href='vscode-notebook-cell:/c%3A/Users/Sara/Documents/GitHub/Python-Sara-Gunnars/Labs/Lab3/test_2_lab.ipynb#W0sZmlsZQ%3D%3D?line=5'>6</a>\u001b[0m \u001b[39mdef\u001b[39;00m \u001b[39m__init__\u001b[39m (\u001b[39mself\u001b[39m, x: \u001b[39mfloat\u001b[39m, y: \u001b[39mfloat\u001b[39m, radius: \u001b[39mfloat\u001b[39m) \u001b[39m-\u001b[39m\u001b[39m>\u001b[39m \u001b[39mNone\u001b[39;00m:\n\u001b[1;32m----> <a href='vscode-notebook-cell:/c%3A/Users/Sara/Documents/GitHub/Python-Sara-Gunnars/Labs/Lab3/test_2_lab.ipynb#W0sZmlsZQ%3D%3D?line=6'>7</a>\u001b[0m     \u001b[39mself\u001b[39;49m\u001b[39m.\u001b[39;49mx \u001b[39m=\u001b[39m x\n\u001b[0;32m      <a href='vscode-notebook-cell:/c%3A/Users/Sara/Documents/GitHub/Python-Sara-Gunnars/Labs/Lab3/test_2_lab.ipynb#W0sZmlsZQ%3D%3D?line=7'>8</a>\u001b[0m     \u001b[39mself\u001b[39m\u001b[39m.\u001b[39my \u001b[39m=\u001b[39m y\n\u001b[0;32m      <a href='vscode-notebook-cell:/c%3A/Users/Sara/Documents/GitHub/Python-Sara-Gunnars/Labs/Lab3/test_2_lab.ipynb#W0sZmlsZQ%3D%3D?line=8'>9</a>\u001b[0m     \u001b[39mself\u001b[39m\u001b[39m.\u001b[39mradius \u001b[39m=\u001b[39m radius\n",
      "\u001b[1;32mc:\\Users\\Sara\\Documents\\GitHub\\Python-Sara-Gunnars\\Labs\\Lab3\\test_2_lab.ipynb Cell 1\u001b[0m in \u001b[0;36mCircle.x\u001b[1;34m(self, value)\u001b[0m\n\u001b[0;32m     <a href='vscode-notebook-cell:/c%3A/Users/Sara/Documents/GitHub/Python-Sara-Gunnars/Labs/Lab3/test_2_lab.ipynb#W0sZmlsZQ%3D%3D?line=14'>15</a>\u001b[0m \u001b[39m@x\u001b[39m\u001b[39m.\u001b[39msetter\n\u001b[0;32m     <a href='vscode-notebook-cell:/c%3A/Users/Sara/Documents/GitHub/Python-Sara-Gunnars/Labs/Lab3/test_2_lab.ipynb#W0sZmlsZQ%3D%3D?line=15'>16</a>\u001b[0m \u001b[39mdef\u001b[39;00m \u001b[39mx\u001b[39m(\u001b[39mself\u001b[39m, value):\n\u001b[0;32m     <a href='vscode-notebook-cell:/c%3A/Users/Sara/Documents/GitHub/Python-Sara-Gunnars/Labs/Lab3/test_2_lab.ipynb#W0sZmlsZQ%3D%3D?line=16'>17</a>\u001b[0m     \u001b[39mif\u001b[39;00m \u001b[39mtype\u001b[39m(value) \u001b[39mis\u001b[39;00m \u001b[39mnot\u001b[39;00m \u001b[39mint\u001b[39m \u001b[39mor\u001b[39;00m \u001b[39mtype\u001b[39m(value) \u001b[39mis\u001b[39;00m \u001b[39mnot\u001b[39;00m \u001b[39mfloat\u001b[39m:\n\u001b[1;32m---> <a href='vscode-notebook-cell:/c%3A/Users/Sara/Documents/GitHub/Python-Sara-Gunnars/Labs/Lab3/test_2_lab.ipynb#W0sZmlsZQ%3D%3D?line=17'>18</a>\u001b[0m         \u001b[39mraise\u001b[39;00m \u001b[39mTypeError\u001b[39;00m(\u001b[39m\"\u001b[39m\u001b[39mX must be a numeric value\u001b[39m\u001b[39m\"\u001b[39m)\n\u001b[0;32m     <a href='vscode-notebook-cell:/c%3A/Users/Sara/Documents/GitHub/Python-Sara-Gunnars/Labs/Lab3/test_2_lab.ipynb#W0sZmlsZQ%3D%3D?line=18'>19</a>\u001b[0m     \u001b[39mself\u001b[39m\u001b[39m.\u001b[39m_x \u001b[39m=\u001b[39m value\n",
      "\u001b[1;31mTypeError\u001b[0m: X must be a numeric value"
     ]
    }
   ],
   "source": [
    "import math\n",
    "\n",
    "# testar Circkelklassen för att se att area och omkretsuträkningarna fungerar som dem ska\n",
    "\n",
    "class Circle:\n",
    "    def __init__ (self, x: float, y: float, radius: float) -> None:\n",
    "        self.x = x\n",
    "        self.y = y\n",
    "        self.radius = radius\n",
    "\n",
    "    @property\n",
    "    def x(self):\n",
    "        return self._x\n",
    "    \n",
    "    @x.setter\n",
    "    def x(self, value):\n",
    "        if type(value) is not int or type(value) is not float:\n",
    "            raise TypeError(\"X must be a numeric value\")\n",
    "        self._x = value\n",
    "    \n",
    "    @property\n",
    "    def y(self):\n",
    "        return self._y\n",
    "    \n",
    "    @y.setter\n",
    "    def y(self, value):\n",
    "        if type(value) is not int or type(value) is not float:\n",
    "            raise TypeError(\"Y must be a numeric value\")\n",
    "        self._y = value\n",
    "\n",
    "    @property\n",
    "    def radius(self):\n",
    "        return self._radius\n",
    "    \n",
    "    @y.setter\n",
    "    def radius(self, value):\n",
    "        if type(value) is not int or type(value) is not float:\n",
    "            raise TypeError(\"Radius must be a numeric value\")\n",
    "            self._radius = value\n",
    "\n",
    "    @property\n",
    "    def area(self):\n",
    "        return (self._radius**2) * math.pi\n",
    "    \n",
    "    @property\n",
    "    def circumfence(self):\n",
    "        return (self._radius + self._radius) * math.pi\n",
    "\n",
    "circle1 = Circle(4, 2, 4)\n",
    "print(f\"{circle1.area =}\") \n",
    "print(f\"{circle1.circumfence =}\")\n",
    "\n"
   ]
  }
 ],
 "metadata": {
  "kernelspec": {
   "display_name": "Python 3.9.13 64-bit",
   "language": "python",
   "name": "python3"
  },
  "language_info": {
   "codemirror_mode": {
    "name": "ipython",
    "version": 3
   },
   "file_extension": ".py",
   "mimetype": "text/x-python",
   "name": "python",
   "nbconvert_exporter": "python",
   "pygments_lexer": "ipython3",
   "version": "3.9.13"
  },
  "orig_nbformat": 4,
  "vscode": {
   "interpreter": {
    "hash": "69585d2715d1f206b6517a2162f54eebbf116517b0fd67b4cd31f43725ed07a5"
   }
  }
 },
 "nbformat": 4,
 "nbformat_minor": 2
}
