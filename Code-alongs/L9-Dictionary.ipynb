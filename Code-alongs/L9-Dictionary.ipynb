{
 "cells": [
  {
   "cell_type": "markdown",
   "metadata": {},
   "source": [
    "# Dictionary\n",
    "- data structures that stores data in key:value pairs"
   ]
  },
  {
   "cell_type": "code",
   "execution_count": 6,
   "metadata": {},
   "outputs": [
    {
     "name": "stdout",
     "output_type": "stream",
     "text": [
      "person dictionary {'name': 'Sara', 'age': 27, 'work': 'student', 'interests': ['sailing', 'snowboarding', 'food']}\n",
      "person work student\n",
      "person age 27\n",
      "person interests ['sailing', 'snowboarding']\n",
      "Sara likes sailing\n",
      "Sara likes snowboarding\n",
      "Sara likes food\n"
     ]
    }
   ],
   "source": [
    "# create a dictionary\n",
    "\n",
    "person = dict(\n",
    "    name = \"Sara\", \n",
    "    age = 27,\n",
    "    work = \"student\", \n",
    "    interests = [\"sailing\", \"snowboarding\", \"food\"]\n",
    ")\n",
    "\n",
    "print(f\"person dictionary {person}\")\n",
    "print(f\"person work {person['work']}\")\n",
    "print(f\"person age {person['age']}\")\n",
    "print(f\"person interests {person['interests'][:2]}\")\n",
    "\n",
    "for interest in person[\"interests\"]:\n",
    "    print (f\"Sara likes {interest}\")"
   ]
  },
  {
   "cell_type": "code",
   "execution_count": 10,
   "metadata": {},
   "outputs": [
    {
     "name": "stdout",
     "output_type": "stream",
     "text": [
      "{'assign': 'assigns a value to a varible', 'dictionary': 'datastructures to store data in key-value-pairs', 'method': 'a function bound to an object'}\n",
      "Vi ska lära oss dessa glosor \n",
      "\n",
      "assign  assigns a value to a varible\n",
      "dictionary  datastructures to store data in key-value-pairs\n",
      "method  a function bound to an object\n"
     ]
    }
   ],
   "source": [
    "# create dictionary with curlybraces {}\n",
    "words = {\n",
    "    \"assign\":\"assigns a value to a varible\",\n",
    "    \"dictionary\": \"datastructures to store data in key-value-pairs\",\n",
    "    \"method\": \"a function bound to an object\"\n",
    "}\n",
    "\n",
    "print(words)\n",
    "print(\"Vi ska lära oss dessa glosor \\n\")\n",
    "\n",
    "for key in words:\n",
    "    print(key,\"\", words[key])"
   ]
  },
  {
   "cell_type": "code",
   "execution_count": 11,
   "metadata": {},
   "outputs": [
    {
     "name": "stdout",
     "output_type": "stream",
     "text": [
      "assign               assigns a value to a varible\n",
      "dictionary           datastructures to store data in key-value-pairs\n",
      "method               a function bound to an object\n"
     ]
    }
   ],
   "source": [
    "# unpack dictionary\n",
    "\n",
    "for key, value in words.items():\n",
    "    print(f\"{key:<20} {value}\")"
   ]
  }
 ],
 "metadata": {
  "kernelspec": {
   "display_name": "Python 3.9.13 ('Python-Sara-Gunnars-Wt0nYGj6')",
   "language": "python",
   "name": "python3"
  },
  "language_info": {
   "codemirror_mode": {
    "name": "ipython",
    "version": 3
   },
   "file_extension": ".py",
   "mimetype": "text/x-python",
   "name": "python",
   "nbconvert_exporter": "python",
   "pygments_lexer": "ipython3",
   "version": "3.9.13"
  },
  "orig_nbformat": 4,
  "vscode": {
   "interpreter": {
    "hash": "b2da62ab492949f6c765980742279830da6e46079a70cad53173e2beb9ccefa4"
   }
  }
 },
 "nbformat": 4,
 "nbformat_minor": 2
}
