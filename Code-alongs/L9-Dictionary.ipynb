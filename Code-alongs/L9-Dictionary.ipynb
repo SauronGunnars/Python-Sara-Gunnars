{
 "cells": [
  {
   "cell_type": "markdown",
   "metadata": {},
   "source": [
    "# Dictionary\n",
    "- data structures that stores data in key:value pairs"
   ]
  },
  {
   "cell_type": "code",
   "execution_count": null,
   "metadata": {},
   "outputs": [],
   "source": [
    "# create a dictionary\n",
    "\n",
    "person = dict(\n",
    "    name = \"Sara\", \n",
    "    age = 27,\n",
    "    work = \"student\", \n",
    "    interests = [\"sailing\", \"snowboard\"]\n",
    ")"
   ]
  }
 ],
 "metadata": {
  "kernelspec": {
   "display_name": "Python 3.9.13 ('Python-Sara-Gunnars-Wt0nYGj6')",
   "language": "python",
   "name": "python3"
  },
  "language_info": {
   "name": "python",
   "version": "3.9.13"
  },
  "orig_nbformat": 4,
  "vscode": {
   "interpreter": {
    "hash": "b2da62ab492949f6c765980742279830da6e46079a70cad53173e2beb9ccefa4"
   }
  }
 },
 "nbformat": 4,
 "nbformat_minor": 2
}
