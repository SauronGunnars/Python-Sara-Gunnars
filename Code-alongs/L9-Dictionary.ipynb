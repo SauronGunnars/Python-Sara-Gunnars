{
 "cells": [
  {
   "cell_type": "markdown",
   "metadata": {},
   "source": [
    "# Dictionary\n",
    "- data structures that stores data in key:value pairs"
   ]
  },
  {
   "cell_type": "code",
   "execution_count": 13,
   "metadata": {},
   "outputs": [
    {
     "name": "stdout",
     "output_type": "stream",
     "text": [
      "person dictionary {'name': 'Sara', 'age': 27, 'work': 'student', 'interests': ['sailing', 'snowboarding', 'food']}\n",
      "person work student\n",
      "person age 27\n",
      "person interests ['sailing', 'snowboarding']\n",
      "\n",
      "Sara likes sailing\n",
      "Sara likes snowboarding\n",
      "Sara likes food\n"
     ]
    }
   ],
   "source": [
    "# create a dictionary\n",
    "\n",
    "person = dict(\n",
    "    name = \"Sara\", \n",
    "    age = 27,\n",
    "    work = \"student\", \n",
    "    interests = [\"sailing\", \"snowboarding\", \"food\"]\n",
    ")\n",
    "\n",
    "print(f\"person dictionary {person}\")\n",
    "print(f\"person work {person['work']}\")\n",
    "print(f\"person age {person['age']}\")\n",
    "#lyfter ut de två första intressena i listan för intressen\n",
    "print(f\"person interests {person['interests'][:2]}\\n\")\n",
    "\n",
    "for interest in person[\"interests\"]:\n",
    "    print (f\"Sara likes {interest}\")"
   ]
  },
  {
   "cell_type": "code",
   "execution_count": 10,
   "metadata": {},
   "outputs": [
    {
     "name": "stdout",
     "output_type": "stream",
     "text": [
      "{'assign': 'assigns a value to a varible', 'dictionary': 'datastructures to store data in key-value-pairs', 'method': 'a function bound to an object'}\n",
      "Vi ska lära oss dessa glosor \n",
      "\n",
      "assign  assigns a value to a varible\n",
      "dictionary  datastructures to store data in key-value-pairs\n",
      "method  a function bound to an object\n"
     ]
    }
   ],
   "source": [
    "# create dictionary with curlybraces {}\n",
    "words = {\n",
    "    \"assign\":\"assigns a value to a varible\",\n",
    "    \"dictionary\": \"datastructures to store data in key-value-pairs\",\n",
    "    \"method\": \"a function bound to an object\"\n",
    "}\n",
    "\n",
    "print(words)\n",
    "print(\"Vi ska lära oss dessa glosor \\n\")\n",
    "\n",
    "for key in words:\n",
    "    print(key,\"\", words[key])"
   ]
  },
  {
   "cell_type": "code",
   "execution_count": 17,
   "metadata": {},
   "outputs": [
    {
     "name": "stdout",
     "output_type": "stream",
     "text": [
      "Glosor\n",
      "\n",
      "assign              assigns a value to a varible\n",
      "dictionary          datastructures to store data in key-value-pairs\n",
      "method              a function bound to an object\n"
     ]
    }
   ],
   "source": [
    "# unpack dictionary\n",
    "print(\"Glosor\\n\")\n",
    "for key, value in words.items():\n",
    "    print(f\"{key:<20}{value}\") #:<20 right align with width 20"
   ]
  },
  {
   "cell_type": "code",
   "execution_count": 22,
   "metadata": {},
   "outputs": [
    {
     "name": "stdout",
     "output_type": "stream",
     "text": [
      "{'F': 0, 'E': 10, 'D': 20, 'C': 30, 'B': 40, 'A': 50}\n"
     ]
    },
    {
     "data": {
      "text/plain": [
       "{'F': '<10', 'E': 10, 'D': 20, 'C': 30, 'B': 40, 'A': 50}"
      ]
     },
     "execution_count": 22,
     "metadata": {},
     "output_type": "execute_result"
    }
   ],
   "source": [
    "# F<10 E:10 D:20 C:30 B:40 A:50\n",
    "\n",
    "grade_limit = {}\n",
    "\n",
    "for i, character in enumerate(\"ABCDEF\"[::-1]):\n",
    "    grade_limit[character] = i*10\n",
    "\n",
    "print(grade_limit)\n",
    "#assigns a new value that is associated with the key F\n",
    "grade_limit[\"F\"] = \"<10\"\n",
    "grade_limit"
   ]
  },
  {
   "cell_type": "markdown",
   "metadata": {},
   "source": [
    "## Dictionary comprehension\n"
   ]
  },
  {
   "cell_type": "code",
   "execution_count": 34,
   "metadata": {},
   "outputs": [
    {
     "name": "stdout",
     "output_type": "stream",
     "text": [
      "grade_limit = {'F': 0, 'E': 10, 'D': 20, 'C': 30, 'B': 40, 'A': 50} \n",
      "scores= [40, 7, 1, 47, 17, 15, 14, 8, 47, 6, 43, 47, 57, 34, 5, 37, 27, 2, 1, 5, 13, 14, 32, 38, 1, 35, 12, 45, 41, 44]\n",
      "{'F': 0, 'E': 0, 'D': 0, 'C': 0, 'B': 0, 'A': 0}\n",
      "{'F': 9, 'E': 6, 'D': 1, 'C': 5, 'B': 8, 'A': 1}\n"
     ]
    }
   ],
   "source": [
    "import random as rnd \n",
    "\n",
    "grade_limit = {grade: i*10 for i, grade in enumerate(\"ABCDEF\"[::-1])}\n",
    "\n",
    "grade_limit\n",
    "\n",
    "def generate_scores(number_students):\n",
    "    rnd.seed(42)\n",
    "    scores = [rnd.randint(0,60) for _ in range(number_students)]\n",
    "    return scores\n",
    "\n",
    "scores = generate_scores(30)\n",
    "\n",
    "print(f\"{grade_limit = } \")\n",
    "print(f\"{scores= }\")\n",
    "# number of students in each grade category\n",
    "students_in_grade = {key: 0 for key in grade_limit}\n",
    "\n",
    "print(students_in_grade)\n",
    "\n",
    "for score in scores:\n",
    "    for grade, limit in grade_limit.items():\n",
    "        if limit <= score < limit+10:\n",
    "            students_in_grade[grade] +=1\n",
    "\n",
    "print(students_in_grade)"
   ]
  },
  {
   "cell_type": "code",
   "execution_count": 36,
   "metadata": {},
   "outputs": [
    {
     "data": {
      "text/plain": [
       "30"
      ]
     },
     "execution_count": 36,
     "metadata": {},
     "output_type": "execute_result"
    }
   ],
   "source": [
    "total_students = 0\n",
    "\n",
    "for _, number_students in students_in_grade.items():\n",
    "    total_students += number_students\n",
    "\n",
    "total_students"
   ]
  },
  {
   "cell_type": "code",
   "execution_count": null,
   "metadata": {},
   "outputs": [],
   "source": []
  }
 ],
 "metadata": {
  "kernelspec": {
   "display_name": "Python 3.9.13 ('Python-Sara-Gunnars-Wt0nYGj6')",
   "language": "python",
   "name": "python3"
  },
  "language_info": {
   "codemirror_mode": {
    "name": "ipython",
    "version": 3
   },
   "file_extension": ".py",
   "mimetype": "text/x-python",
   "name": "python",
   "nbconvert_exporter": "python",
   "pygments_lexer": "ipython3",
   "version": "3.9.13"
  },
  "orig_nbformat": 4,
  "vscode": {
   "interpreter": {
    "hash": "b2da62ab492949f6c765980742279830da6e46079a70cad53173e2beb9ccefa4"
   }
  }
 },
 "nbformat": 4,
 "nbformat_minor": 2
}
