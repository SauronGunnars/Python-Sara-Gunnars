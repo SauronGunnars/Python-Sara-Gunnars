{
 "cells": [
  {
   "cell_type": "code",
   "execution_count": null,
   "metadata": {},
   "outputs": [],
   "source": []
  }
 ],
 "metadata": {
  "kernelspec": {
   "display_name": "Python 3.9.13 64-bit",
   "language": "python",
   "name": "python3"
  },
  "language_info": {
   "name": "python",
   "version": "3.9.13"
  },
  "orig_nbformat": 4,
  "vscode": {
   "interpreter": {
    "hash": "69585d2715d1f206b6517a2162f54eebbf116517b0fd67b4cd31f43725ed07a5"
   }
  }
 },
 "nbformat": 4,
 "nbformat_minor": 2
}
