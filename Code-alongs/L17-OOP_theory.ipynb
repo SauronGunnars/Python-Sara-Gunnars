{
 "cells": [
  {
   "cell_type": "markdown",
   "metadata": {},
   "source": [
    "# OOP theory"
   ]
  },
  {
   "cell_type": "markdown",
   "metadata": {},
   "source": [
    "## Class instansiation\n",
    "\n",
    "# when instansiatition an object from a class\n",
    "from cProfile import run\n",
    "from sre_parse import State\n",
    "\n",
    "\n",
    "1. `__new__()` is run\n",
    "2. `__init__()` is run -> gives the instance object its initial State"
   ]
  },
  {
   "cell_type": "code",
   "execution_count": 7,
   "metadata": {},
   "outputs": [
    {
     "name": "stdout",
     "output_type": "stream",
     "text": [
      "<__main__.Student object at 0x000001E99FEF96D0>\n",
      "<class '__main__.Student'>\n"
     ]
    },
    {
     "data": {
      "text/plain": [
       "True"
      ]
     },
     "execution_count": 7,
     "metadata": {},
     "output_type": "execute_result"
    }
   ],
   "source": [
    "# Convention for classes is PascalCase\n",
    "class Student:\n",
    "    pass\n",
    "\n",
    "# variable and function names are written in snake_case (in python, other languages camelCase) \n",
    "\n",
    "s1 = Student()\n",
    "# s1 has a __repr___() but this __repr__() is in the object class\n",
    "print(repr(s1))\n",
    "\n",
    "print(type(s1))\n",
    "\n",
    "#return wether an bject is an instance of a class or subclass therof\n",
    "isinstance(s1, object)"
   ]
  },
  {
   "cell_type": "code",
   "execution_count": 8,
   "metadata": {},
   "outputs": [
    {
     "data": {
      "text/plain": [
       "(True, False)"
      ]
     },
     "execution_count": 8,
     "metadata": {},
     "output_type": "execute_result"
    }
   ],
   "source": [
    "isinstance(Student, object), isinstance(s1, int) "
   ]
  },
  {
   "cell_type": "code",
   "execution_count": 10,
   "metadata": {},
   "outputs": [
    {
     "data": {
      "text/plain": [
       "False"
      ]
     },
     "execution_count": 10,
     "metadata": {},
     "output_type": "execute_result"
    }
   ],
   "source": [
    "s2 = Student()\n",
    "s1 is s2 # s1 is not s2, they are different object"
   ]
  },
  {
   "cell_type": "code",
   "execution_count": 13,
   "metadata": {},
   "outputs": [
    {
     "data": {
      "text/plain": [
       "('0x1e99fef96d0', '0x1e9a0d1fcd0')"
      ]
     },
     "execution_count": 13,
     "metadata": {},
     "output_type": "execute_result"
    }
   ],
   "source": [
    "hex(id(s1)), hex(id(s2)) # different memory adresses"
   ]
  },
  {
   "cell_type": "markdown",
   "metadata": {},
   "source": [
    "##  Attribute\n",
    "\n",
    "- can be defined in class\n",
    "- can be created on the fly (during run time using dot notation)\n",
    "- can be created inside methods"
   ]
  },
  {
   "cell_type": "code",
   "execution_count": 16,
   "metadata": {},
   "outputs": [
    {
     "name": "stdout",
     "output_type": "stream",
     "text": [
      "{'__module__': '__main__', 'name': 'default', '__dict__': <attribute '__dict__' of 'Student' objects>, '__weakref__': <attribute '__weakref__' of 'Student' objects>, '__doc__': None}\n"
     ]
    },
    {
     "data": {
      "text/plain": [
       "'default'"
      ]
     },
     "execution_count": 16,
     "metadata": {},
     "output_type": "execute_result"
    }
   ],
   "source": [
    "class Student:\n",
    "    name = \"default\"\n",
    "\n",
    "# Student's namespace\n",
    "print(Student.__dict__)\n",
    "\n",
    "# gets the name attrubute from the class\n",
    "Student.name"
   ]
  },
  {
   "cell_type": "code",
   "execution_count": 19,
   "metadata": {},
   "outputs": [
    {
     "name": "stdout",
     "output_type": "stream",
     "text": [
      "{}\n"
     ]
    },
    {
     "data": {
      "text/plain": [
       "'default'"
      ]
     },
     "execution_count": 19,
     "metadata": {},
     "output_type": "execute_result"
    }
   ],
   "source": [
    "s1 = Student()\n",
    "print(s1.__dict__) #empty\n",
    "s1.name #looks at the class name and pulls this"
   ]
  },
  {
   "cell_type": "code",
   "execution_count": 22,
   "metadata": {},
   "outputs": [
    {
     "name": "stdout",
     "output_type": "stream",
     "text": [
      "{'name': 'Ada', 'shoe_size': '43'}\n"
     ]
    }
   ],
   "source": [
    "# created an attribute on the fly using dot notation\n",
    "# created an instance whithin the Class Student\n",
    "s1.name = \"Ada\"\n",
    "s1.shoe_size = \"43\"\n",
    "print(s1.__dict__)"
   ]
  },
  {
   "cell_type": "code",
   "execution_count": 24,
   "metadata": {},
   "outputs": [
    {
     "data": {
      "text/plain": [
       "mappingproxy({'__module__': '__main__',\n",
       "              'name': 'default',\n",
       "              '__dict__': <attribute '__dict__' of 'Student' objects>,\n",
       "              '__weakref__': <attribute '__weakref__' of 'Student' objects>,\n",
       "              '__doc__': None})"
      ]
     },
     "execution_count": 24,
     "metadata": {},
     "output_type": "execute_result"
    }
   ],
   "source": [
    "Student.__dict__"
   ]
  },
  {
   "cell_type": "code",
   "execution_count": 26,
   "metadata": {},
   "outputs": [
    {
     "data": {
      "text/plain": [
       "'default'"
      ]
     },
     "execution_count": 26,
     "metadata": {},
     "output_type": "execute_result"
    }
   ],
   "source": [
    "s2 = Student()\n",
    "s2.__dict__\n",
    "s2.name"
   ]
  },
  {
   "cell_type": "markdown",
   "metadata": {},
   "source": [
    "## Namespace\n",
    "\n",
    "- class attributes live in the class namespace\n",
    "- a namespace is a dictionary of symbols (keys): reference to objects (values)\n",
    "\n",
    "Python will look at local scope (inner most scope of a function or method) -> enclosing scope -> global scope -> built in scope"
   ]
  },
  {
   "cell_type": "code",
   "execution_count": 28,
   "metadata": {},
   "outputs": [],
   "source": [
    "# global scope\n",
    "class Functions:\n",
    "    # enclosing scope\n",
    "    def f(x):\n",
    "        # local scope\n",
    "        return x"
   ]
  },
  {
   "cell_type": "code",
   "execution_count": 32,
   "metadata": {},
   "outputs": [
    {
     "name": "stdout",
     "output_type": "stream",
     "text": [
      "{'__module__': '__main__', 'eyes': 2, 'nose': 1, 'has_tail': True, '__init__': <function Rabbit.__init__ at 0x000001E9A0D728B0>, '__dict__': <attribute '__dict__' of 'Rabbit' objects>, '__weakref__': <attribute '__weakref__' of 'Rabbit' objects>, '__doc__': None}\n",
      "\n",
      "{'name': 'Bella'}\n"
     ]
    },
    {
     "data": {
      "text/plain": [
       "'Bella'"
      ]
     },
     "execution_count": 32,
     "metadata": {},
     "output_type": "execute_result"
    }
   ],
   "source": [
    "\n",
    "\n",
    "class Rabbit:\n",
    "    # class attributes - exists in class namespace not in instance namespace\n",
    "    eyes = 2\n",
    "    nose = 1\n",
    "    has_tail = True\n",
    "\n",
    "    def __init__(self, name) -> None:\n",
    "        # name exists in instance namespace, not the class namespace\n",
    "        self.name = name\n",
    "\n",
    "rabbit1 = Rabbit(\"Bella\")\n",
    "\n",
    "print(Rabbit.__dict__) #class namespace\n",
    "print()\n",
    "print(rabbit1.__dict__) #instance namespace\n",
    "rabbit1.name"
   ]
  },
  {
   "cell_type": "code",
   "execution_count": 33,
   "metadata": {},
   "outputs": [
    {
     "data": {
      "text/plain": [
       "('Bella', 1)"
      ]
     },
     "execution_count": 33,
     "metadata": {},
     "output_type": "execute_result"
    }
   ],
   "source": [
    "rabbit1.name, rabbit1.nose # finds name in local scope (instance namespace) and nose in global scope (class namespace)"
   ]
  },
  {
   "cell_type": "code",
   "execution_count": 37,
   "metadata": {},
   "outputs": [
    {
     "data": {
      "text/plain": [
       "False"
      ]
     },
     "execution_count": 37,
     "metadata": {},
     "output_type": "execute_result"
    }
   ],
   "source": [
    "class Rabbit:\n",
    "    # class attributes - exists in class namespace not in instance namespace\n",
    "    eyes = 2\n",
    "    nose = 1\n",
    "    has_tail = True\n",
    "\n",
    "    def __init__(self, name) -> None:\n",
    "        # name exists in instance namespace, not the class namespace\n",
    "        self.name = name\n",
    "        self.has_tail = False\n",
    "\n",
    "rabbit1 = Rabbit(\"Skutt\")\n",
    "rabbit1.has_tail\n"
   ]
  },
  {
   "cell_type": "code",
   "execution_count": 41,
   "metadata": {},
   "outputs": [
    {
     "data": {
      "text/plain": [
       "4"
      ]
     },
     "execution_count": 41,
     "metadata": {},
     "output_type": "execute_result"
    }
   ],
   "source": [
    "import numpy as np\n",
    "\n",
    "# x is in global scope\n",
    "x = np.linspace(-5,5)\n",
    "\n",
    "# x here is in local scope\n",
    "# f= lambda x: :**2\n",
    "def f(x):\n",
    "    y = x + 2\n",
    "    return y\n",
    "f(2)\n"
   ]
  },
  {
   "cell_type": "markdown",
   "metadata": {},
   "source": [
    "## Property\n"
   ]
  },
  {
   "cell_type": "code",
   "execution_count": 50,
   "metadata": {},
   "outputs": [
    {
     "name": "stdout",
     "output_type": "stream",
     "text": [
      "{'__module__': '__main__', '__init__': <function Square.__init__ at 0x000001E99FED5EE0>, 'get_side': <function Square.get_side at 0x000001E9A86D2AF0>, 'set_side': <function Square.set_side at 0x000001E9A86D28B0>, '__dict__': <attribute '__dict__' of 'Square' objects>, '__weakref__': <attribute '__weakref__' of 'Square' objects>, '__doc__': None}\n",
      "\n",
      "{'_side': 1}\n",
      "'Square' object has no attribute 'side'\n"
     ]
    }
   ],
   "source": [
    "# property function\n",
    "\n",
    "class Square:\n",
    "    def __init__(self, side) -> None:\n",
    "        self._side = side # NOTE\n",
    "\n",
    "    def get_side(self):\n",
    "        print(\"Getter run\")\n",
    "        return self._side\n",
    "    \n",
    "    def set_side(self, value):\n",
    "        print(\"Setter run\")\n",
    "\n",
    "        self._side = value\n",
    "\n",
    "unit_square = Square(1)\n",
    "print(Square.__dict__)\n",
    "print()\n",
    "print(unit_square.__dict__)\n",
    "try:\n",
    "    unit_square.side\n",
    "except AttributeError as err:\n",
    "    print(err)"
   ]
  },
  {
   "cell_type": "code",
   "execution_count": 51,
   "metadata": {},
   "outputs": [
    {
     "name": "stdout",
     "output_type": "stream",
     "text": [
      "Getter run\n",
      "Setter run\n",
      "Getter run\n"
     ]
    },
    {
     "data": {
      "text/plain": [
       "{'_side': 2}"
      ]
     },
     "execution_count": 51,
     "metadata": {},
     "output_type": "execute_result"
    }
   ],
   "source": [
    "unit_square.get_side() #this returns _side\n",
    "unit_square.set_side(2)# this sets _side\n",
    "unit_square.get_side() # this returns _side\n",
    "unit_square.__dict__"
   ]
  },
  {
   "cell_type": "code",
   "execution_count": 57,
   "metadata": {},
   "outputs": [
    {
     "name": "stdout",
     "output_type": "stream",
     "text": [
      "Setter run\n",
      "Setter run\n",
      "Getter run\n"
     ]
    },
    {
     "data": {
      "text/plain": [
       "4"
      ]
     },
     "execution_count": 57,
     "metadata": {},
     "output_type": "execute_result"
    }
   ],
   "source": [
    "# without property\n",
    "class Square:\n",
    "    def __init__(self, side) -> None:\n",
    "        self.side = side # NOTE\n",
    "\n",
    "    # method\n",
    "    def get_side(self):\n",
    "        print(\"Getter run\")\n",
    "        return self._side\n",
    "    \n",
    "    # method\n",
    "    def set_side(self, value):\n",
    "        # validation code\n",
    "        print(\"Setter run\")\n",
    "        self._side = value\n",
    "\n",
    "    side = property(fget = get_side, fset = set_side)\n",
    "\n",
    "square2 = Square(2)\n",
    "square2.side = 4\n",
    "square2.side"
   ]
  },
  {
   "cell_type": "code",
   "execution_count": null,
   "metadata": {},
   "outputs": [],
   "source": [
    "class Square:\n",
    "    def __init__(self, side) -> None:\n",
    "        self.side = side # NOTE\n",
    "\n",
    "    # side = property(fget=side, fset=side.setter)\n",
    "    @property\n",
    "    def side(self):\n",
    "        print(\"Getter run\")\n",
    "        return self._side\n",
    "    \n",
    "    @side.setter\n",
    "    def side(self, value):\n",
    "        # validation code\n",
    "        print(\"Setter run\")\n",
    "        self._side = value"
   ]
  }
 ],
 "metadata": {
  "kernelspec": {
   "display_name": "Python 3.9.13 ('Python-Sara-Gunnars-Wt0nYGj6')",
   "language": "python",
   "name": "python3"
  },
  "language_info": {
   "codemirror_mode": {
    "name": "ipython",
    "version": 3
   },
   "file_extension": ".py",
   "mimetype": "text/x-python",
   "name": "python",
   "nbconvert_exporter": "python",
   "pygments_lexer": "ipython3",
   "version": "3.9.13"
  },
  "orig_nbformat": 4,
  "vscode": {
   "interpreter": {
    "hash": "b2da62ab492949f6c765980742279830da6e46079a70cad53173e2beb9ccefa4"
   }
  }
 },
 "nbformat": 4,
 "nbformat_minor": 2
}
