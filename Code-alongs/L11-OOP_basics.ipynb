{
 "cells": [
  {
   "cell_type": "markdown",
   "metadata": {},
   "source": [
    "# OOP basics"
   ]
  },
  {
   "cell_type": "code",
   "execution_count": 1,
   "metadata": {},
   "outputs": [],
   "source": [
    "# created a class called Person\n",
    "class Person:\n",
    "    pass\n",
    "\n",
    "# instanciates an instance from the class Person using the callable syntax ()\n",
    "person1 = Person() "
   ]
  },
  {
   "cell_type": "code",
   "execution_count": 2,
   "metadata": {},
   "outputs": [],
   "source": [
    "person1.name = \"Hedda\" # creates instance attribute \"name\""
   ]
  },
  {
   "cell_type": "code",
   "execution_count": 3,
   "metadata": {},
   "outputs": [],
   "source": [
    "person2 = Person()"
   ]
  },
  {
   "cell_type": "code",
   "execution_count": 4,
   "metadata": {},
   "outputs": [
    {
     "ename": "AttributeError",
     "evalue": "'Person' object has no attribute 'name'",
     "output_type": "error",
     "traceback": [
      "\u001b[1;31m---------------------------------------------------------------------------\u001b[0m",
      "\u001b[1;31mAttributeError\u001b[0m                            Traceback (most recent call last)",
      "Cell \u001b[1;32mIn [4], line 1\u001b[0m\n\u001b[1;32m----> 1\u001b[0m \u001b[43mperson2\u001b[49m\u001b[38;5;241;43m.\u001b[39;49m\u001b[43mname\u001b[49m\n",
      "\u001b[1;31mAttributeError\u001b[0m: 'Person' object has no attribute 'name'"
     ]
    }
   ],
   "source": [
    "person2.name "
   ]
  },
  {
   "cell_type": "markdown",
   "metadata": {},
   "source": [
    "## `__init__()`\n",
    "\n",
    "- dunder init method (special method)\n",
    "- initializer method that runs after object has been created\n",
    "- used for setting initial values of attributes to an instance object"
   ]
  },
  {
   "cell_type": "code",
   "execution_count": 20,
   "metadata": {},
   "outputs": [
    {
     "name": "stdout",
     "output_type": "stream",
     "text": [
      "Sara\n",
      "Adrian\n",
      "person2.program = 'Data science'\n"
     ]
    },
    {
     "data": {
      "text/plain": [
       "Antagning('Supa cool school', 'AI', 'Sara', 'True')"
      ]
     },
     "execution_count": 20,
     "metadata": {},
     "output_type": "execute_result"
    }
   ],
   "source": [
    "class Antagning:\n",
    "    # initializer\n",
    "    # # for methods it's a convention to have first argument as self\n",
    "    def __init__(self, school, program, name, accept): \n",
    "        # asigns arguments to instance attributes\n",
    "        self.school = school\n",
    "        self.program = program\n",
    "        self.name = name\n",
    "        self. accept = accept\n",
    "\n",
    "    # representation for the instance object -> used for other developers in order to have a more understandable print\n",
    "    # pronounciation: \"dunder repper\", \n",
    "    def __repr__(self):\n",
    "        return f\"Antagning('{self.school}', '{self.program}', '{self.name}', '{self.accept}')\"\n",
    "\n",
    "\n",
    "# when a method is called -> the instance itself is injected to the method as the first argument\n",
    "\n",
    "# here we instantiate from the class Antagning\n",
    "person1 = Antagning(\"Supa cool school\", \"AI\", \"Sara\", True) \n",
    "person2 = Antagning(\"Okey school\",\"Python course\", \"Adrian\", False)\n",
    "\n",
    "# accessed the instance attributes using the dot notation\n",
    "print(person1.name)\n",
    "print(person2.name)\n",
    "\n",
    "person2.program = \"Data science\" #changes attribute \"program for person 2\" from python course -> Data science\n",
    "print(f\"{person2.program = }\")\n",
    "\n",
    "person1 #prints all attributes assigned to person1"
   ]
  },
  {
   "cell_type": "code",
   "execution_count": 17,
   "metadata": {},
   "outputs": [
    {
     "data": {
      "text/plain": [
       "Antagning('Okey school', 'Data science', 'Adrian', 'False')"
      ]
     },
     "execution_count": 17,
     "metadata": {},
     "output_type": "execute_result"
    }
   ],
   "source": [
    "person2 #prints all attributes assigned to person2"
   ]
  },
  {
   "cell_type": "code",
   "execution_count": 19,
   "metadata": {},
   "outputs": [
    {
     "data": {
      "text/plain": [
       "[1, 2, 3]"
      ]
     },
     "execution_count": 19,
     "metadata": {},
     "output_type": "execute_result"
    }
   ],
   "source": [
    "example_list = [1,2,3]\n",
    "example_list # the lists dunder repper is the reason our print looks like below"
   ]
  },
  {
   "cell_type": "markdown",
   "metadata": {},
   "source": [
    "## encapsulation\n",
    "\n",
    "- hide information that is used within the class that should't be accessed from outside the class\n",
    "- so want to create an interface between attributes within the class and outside to prevent misuse\n",
    "- in many OOP languages, we can make attributes private, this is not possible in python\n",
    "- all attributes in python are public\n",
    "- in python: private by convention, use an underscore before the attribute, e.g. _name\n",
    "- also possible to use __name (symbol mangling)"
   ]
  },
  {
   "cell_type": "code",
   "execution_count": 32,
   "metadata": {},
   "outputs": [
    {
     "name": "stdout",
     "output_type": "stream",
     "text": [
      "Patient(name = 'Hedda', diagnosos = 'Influenza')\n",
      "Patient(name = 'Adrian', diagnosos = 'Covid')\n",
      "Patient(name = 'Ingrid', diagnosos = 'Influenza')\n",
      "Patient(name = 'Ingrid', diagnosos = 'Influenza')\n",
      "{'_name': 'Ingrid', '_Patient__diagnosis': 'Influenza', '__diagnosis': 'Migraine'}\n"
     ]
    },
    {
     "data": {
      "text/plain": [
       "'Influenza'"
      ]
     },
     "execution_count": 32,
     "metadata": {},
     "output_type": "execute_result"
    }
   ],
   "source": [
    "\n",
    "\n",
    "class Patient:\n",
    "    def __init__(self, name, diagnosis):\n",
    "        self._name = name\n",
    "        self.__diagnosis = diagnosis\n",
    "    \n",
    "    def __repr__(self):\n",
    "        return f\"Patient(name = '{self._name}', diagnosos = '{self.__diagnosis}')\"\n",
    "\n",
    "patient1 = Patient(\"Hedda\", \"Influenza\")\n",
    "patient2 = Patient(\"Adrian\", \"Covid\")\n",
    "\n",
    "print(patient1)\n",
    "print(patient2)\n",
    "\n",
    "# we can access the private attribute, but we really shouldn't\n",
    "patient1._name = \"Ingrid\"\n",
    "print(patient1)\n",
    "\n",
    "# due to name mangling \n",
    "patient1.__diagnosis = \"Migraine\"\n",
    "print(patient1) # as we can see below the diagnosis of patient1 did not change despite reassigning a new value\n",
    "\n",
    "print(patient1.__dict__)\n",
    "patient1._Patient__diagnosis"
   ]
  },
  {
   "cell_type": "code",
   "execution_count": 33,
   "metadata": {},
   "outputs": [
    {
     "data": {
      "text/plain": [
       "'Migraine'"
      ]
     },
     "execution_count": 33,
     "metadata": {},
     "output_type": "execute_result"
    }
   ],
   "source": [
    "patient1.__diagnosis"
   ]
  },
  {
   "cell_type": "code",
   "execution_count": 52,
   "metadata": {},
   "outputs": [
    {
     "name": "stdout",
     "output_type": "stream",
     "text": [
      "\n",
      "OldCoinStash(owner = 'Ragnar')\n",
      "Coins: In stash 0 riksdaler, 0 skillingar\n",
      "\n",
      "Coins: In stash 20 riksdaler, 10 skillingar\n",
      "\n",
      "You can't deposit a negative value\n",
      "Coins: In stash 20 riksdaler, 10 skillingar\n",
      "\n",
      "Can't withdraw more than you have in stash\n",
      "Coins: In stash 20 riksdaler, 10 skillingar\n",
      "\n",
      "Can't withdraw a negative amount\n",
      "Coins: In stash 20 riksdaler, 10 skillingar\n"
     ]
    }
   ],
   "source": [
    "# another example\n",
    "class OldCoinsStach:\n",
    "    def __init__(self, owner):\n",
    "        self.owner = owner \n",
    "\n",
    "        # private attributes (pseudo private at least)\n",
    "        self._riksdaler = 0\n",
    "        self._skilling = 0\n",
    "    \n",
    "    def deposit(self, riksdaler, skilling):\n",
    "        if riksdaler < 0 or skilling < 0: \n",
    "            raise ValueError(\"You can't deposit a negative value\")\n",
    "        self._riksdaler += riksdaler\n",
    "        self._skilling += skilling\n",
    "\n",
    "    def withdraw(self, riksdaler, skilling):\n",
    "\n",
    "        # checks if your trying to withdraw more than you have in stash\n",
    "        if riksdaler > self._riksdaler or skilling > self._skilling:\n",
    "            raise ValueError(\"Can't withdraw more than you have in stash\")   \n",
    "\n",
    "        # checks if your trying to withdraw a neg.amount\n",
    "        if riksdaler < 0 or skilling < 0:\n",
    "            raise ValueError(\"Can't withdraw a negative amount\")  \n",
    "\n",
    "        self._riksdaler -= riksdaler\n",
    "        self._skilling -= skilling\n",
    "\n",
    "    def balance(self):\n",
    "        return f\"Coins: In stash {self._riksdaler} riksdaler, {self._skilling} skillingar\"\n",
    "\n",
    "    def __repr__(self):\n",
    "        return f\"OldCoinStash(owner = '{self.owner}')\"\n",
    "\n",
    "stash = OldCoinsStach(\"Ragnar\")\n",
    "print(f\"\\n{stash}\")\n",
    "print(stash.balance())\n",
    "\n",
    "stash.deposit(20, 10)\n",
    "print(f\"\\n{stash.balance()}\")\n",
    "\n",
    "try:\n",
    "    stash.deposit(-5, 10)\n",
    "except ValueError as  err:\n",
    "    print(f\"\\n{err}\")\n",
    "print(stash.balance())\n",
    "\n",
    "try:\n",
    "    stash.withdraw(25, 10)\n",
    "except ValueError as  err:\n",
    "    print(f\"\\n{err}\")\n",
    "print(stash.balance())\n",
    "\n",
    "try:\n",
    "    stash.withdraw(-5, 10)\n",
    "except ValueError as  err:\n",
    "    print(f\"\\n{err}\")\n",
    "print(stash.balance())\n",
    "\n"
   ]
  },
  {
   "cell_type": "markdown",
   "metadata": {},
   "source": [
    "## Property\n",
    "\n",
    "- want to expose few to non bare attributes\n",
    "- when wanting to change attributes\n",
    "    - getter and setter (common in many other languages)\n",
    "    - in python: make into property \n",
    "\n",
    "with property:\n",
    "- include error handling\n",
    "- computed properties\n",
    "- can make read-only and write-only properties"
   ]
  },
  {
   "cell_type": "code",
   "execution_count": 56,
   "metadata": {},
   "outputs": [
    {
     "ename": "AttributeError",
     "evalue": "can't set attribute",
     "output_type": "error",
     "traceback": [
      "\u001b[1;31m---------------------------------------------------------------------------\u001b[0m",
      "\u001b[1;31mAttributeError\u001b[0m                            Traceback (most recent call last)",
      "Cell \u001b[1;32mIn [56], line 18\u001b[0m\n\u001b[0;32m     15\u001b[0m         \u001b[38;5;28;01mreturn\u001b[39;00m \u001b[38;5;28mself\u001b[39m\u001b[38;5;241m.\u001b[39m_name\n\u001b[0;32m     17\u001b[0m student1 \u001b[38;5;241m=\u001b[39m Student(\u001b[38;5;124m\"\u001b[39m\u001b[38;5;124mDavid\u001b[39m\u001b[38;5;124m\"\u001b[39m, \u001b[38;5;241m30\u001b[39m, \u001b[38;5;28;01mTrue\u001b[39;00m)\n\u001b[1;32m---> 18\u001b[0m \u001b[43mstudent1\u001b[49m\u001b[38;5;241;43m.\u001b[39;49m\u001b[43mname\u001b[49m  \u001b[38;5;241m=\u001b[39m \u001b[38;5;124m\"\u001b[39m\u001b[38;5;124mElla\u001b[39m\u001b[38;5;124m\"\u001b[39m\n",
      "\u001b[1;31mAttributeError\u001b[0m: can't set attribute"
     ]
    }
   ],
   "source": [
    "from sys import int_info\n",
    "\n",
    "\n",
    "class Student:\n",
    "    \"\"\"Student class for representing students with name, age and activity\"\"\" # docstring, shows if we run help(Student)\n",
    "\n",
    "    # note type inting\n",
    "    def __init__(self, name: str, age: int, active: bool) -> None:\n",
    "        self._name = name\n",
    "        self._age = age\n",
    "        self._active = active\n",
    "\n",
    "    # read-only property - @ symbol makes it into a decorator\n",
    "    @property\n",
    "\n",
    "    def name(self) -> str:\n",
    "        \"\"\"Read-Only property, we can't write to name\"\"\"\n",
    "        return self._name\n",
    "\n",
    "    #getter\n",
    "    @property\n",
    "    def age(self) -> int:\n",
    "        return self._age\n",
    "    #setter\n",
    "    @age.setter\n",
    "    def age(self, value: int):\n",
    "        \"\"\"Setter for age with error handling\"\"\"\n",
    "        if not isinstance(value, int):\n",
    "            raise TypeError(f\"Age must be an integer number, {type(value)}\")\n",
    "\n",
    "        if not(0 < value < 125):\n",
    "            raise ValueError(f\"Age must be between 0 and 125\")\n",
    "\n",
    "student1 = Student(\"David\", 30, True)\n",
    "student1.name  = \"Ella\""
   ]
  }
 ],
 "metadata": {
  "kernelspec": {
   "display_name": "Python 3.9.13 ('Python-Sara-Gunnars-Wt0nYGj6')",
   "language": "python",
   "name": "python3"
  },
  "language_info": {
   "codemirror_mode": {
    "name": "ipython",
    "version": 3
   },
   "file_extension": ".py",
   "mimetype": "text/x-python",
   "name": "python",
   "nbconvert_exporter": "python",
   "pygments_lexer": "ipython3",
   "version": "3.9.13"
  },
  "orig_nbformat": 4,
  "vscode": {
   "interpreter": {
    "hash": "b2da62ab492949f6c765980742279830da6e46079a70cad53173e2beb9ccefa4"
   }
  }
 },
 "nbformat": 4,
 "nbformat_minor": 2
}
