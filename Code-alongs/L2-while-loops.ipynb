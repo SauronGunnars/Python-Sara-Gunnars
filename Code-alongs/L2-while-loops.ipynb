{
 "cells": [
  {
   "cell_type": "markdown",
   "metadata": {},
   "source": [
    "# While loop\n",
    "\n",
    "- As long as the condition inside is true -> the loop will run"
   ]
  },
  {
   "cell_type": "code",
   "execution_count": 8,
   "metadata": {},
   "outputs": [
    {
     "name": "stdout",
     "output_type": "stream",
     "text": [
      "i = 0\n",
      "i = 1\n",
      "i = 2\n",
      "i = 3\n"
     ]
    }
   ],
   "source": [
    "i = 0\n",
    "\n",
    "while i <= 3:\n",
    "    print (f\"{i = }\")\n",
    "    i += 1 #adds one to i <--> i = i+1"
   ]
  },
  {
   "cell_type": "markdown",
   "metadata": {},
   "source": [
    "## Example - birds and oil\n",
    "\n",
    "##### There is an oil leakage causing the bird population on an island  to 1/2 in a year. From start there was 80 000 birds, how many years does it take for it to have 1/10 remaining?"
   ]
  },
  {
   "cell_type": "code",
   "execution_count": 33,
   "metadata": {},
   "outputs": [
    {
     "name": "stdout",
     "output_type": "stream",
     "text": [
      "year:1 birds:40000\n",
      "year:2 birds:20000\n",
      "year:3 birds:10000\n",
      "year:4 birds:5000\n"
     ]
    }
   ],
   "source": [
    "birds, years = 80000, 0 \n",
    "\n",
    "while birds >= 8000:\n",
    "    birds/= 2\n",
    "    years += 1\n",
    "    print(f\"year:{years} birds:{birds:.0f}\")"
   ]
  },
  {
   "cell_type": "markdown",
   "metadata": {},
   "source": [
    "## Eample milk\n",
    "\n",
    "- 1L of milk has 1 500 000 bacterias in room temp\n",
    "- bacterias increase 50% each hour in room temp\n",
    "- Milk gets sour after 10 000 000 bacterias\n",
    "- How many hours does it take until milk is sour (whole hours)?"
   ]
  },
  {
   "cell_type": "code",
   "execution_count": 51,
   "metadata": {},
   "outputs": [
    {
     "name": "stdout",
     "output_type": "stream",
     "text": [
      "[1500000.0, 2250000.0, 3375000.0, 5062500.0, 7593750.0, 11390625.0]\n",
      "The milk is sours after 5 hours\n"
     ]
    },
    {
     "data": {
      "text/plain": [
       "Text(0.5, 1.0, 'Increase of bacterias in milk (room temp)')"
      ]
     },
     "execution_count": 51,
     "metadata": {},
     "output_type": "execute_result"
    },
    {
     "data": {
      "image/png": "[encoded data removed]",
      "text/plain": [
       "<Figure size 640x480 with 1 Axes>"
      ]
     },
     "metadata": {},
     "output_type": "display_data"
    }
   ],
   "source": [
    "import matplotlib.pyplot as plt\n",
    "\n",
    "bacterias = 1.5e6 # same as 1.5X(10^6)\n",
    "factor = 1.5\n",
    "hours = 0\n",
    "sour = 1e7 # same as 10^7\n",
    "\n",
    "bacterias_list = [bacterias]\n",
    "\n",
    "\n",
    "while bacterias < sour:\n",
    "    bacterias *= factor\n",
    "    hours +=1\n",
    "    bacterias_list.append(bacterias) #adds element to list (bacterias)\n",
    "\n",
    "print(bacterias_list)\n",
    "print(f\"The milk is sours after {hours} hours\")\n",
    "\n",
    "# creates a range object with numbers: 0,1,2,..., hours\n",
    "hours_list = range (0, hours+1)\n",
    "plt.plot(hours_list,bacterias_list, 'o')\n",
    "plt.grid()\n",
    "plt.xlabel(\"Hours\")\n",
    "plt.ylabel(\"Bacterias\")\n",
    "plt.title(\"Increase of bacterias in milk (room temp)\")\n"
   ]
  }
 ],
 "metadata": {
  "kernelspec": {
   "display_name": "Python 3.9.13 ('Python-Sara-Gunnars-Wt0nYGj6')",
   "language": "python",
   "name": "python3"
  },
  "language_info": {
   "codemirror_mode": {
    "name": "ipython",
    "version": 3
   },
   "file_extension": ".py",
   "mimetype": "text/x-python",
   "name": "python",
   "nbconvert_exporter": "python",
   "pygments_lexer": "ipython3",
   "version": "3.9.13"
  },
  "orig_nbformat": 4,
  "vscode": {
   "interpreter": {
    "hash": "b2da62ab492949f6c765980742279830da6e46079a70cad53173e2beb9ccefa4"
   }
  }
 },
 "nbformat": 4,
 "nbformat_minor": 2
}
