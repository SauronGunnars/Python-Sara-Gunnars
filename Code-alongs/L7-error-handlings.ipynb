{
 "cells": [
  {
   "cell_type": "markdown",
   "metadata": {},
   "source": [
    "# Errors"
   ]
  },
  {
   "cell_type": "code",
   "execution_count": 2,
   "metadata": {},
   "outputs": [
    {
     "ename": "NameError",
     "evalue": "name 'prin' is not defined",
     "output_type": "error",
     "traceback": [
      "\u001b[1;31m---------------------------------------------------------------------------\u001b[0m",
      "\u001b[1;31mNameError\u001b[0m                                 Traceback (most recent call last)",
      "\u001b[1;32mc:\\Users\\Sara\\Documents\\GitHub\\Python-Sara-Gunnars\\Code-alongs\\L7-error-handlings.ipynb Cell 2\u001b[0m in \u001b[0;36m<cell line: 2>\u001b[1;34m()\u001b[0m\n\u001b[0;32m      <a href='vscode-notebook-cell:/c%3A/Users/Sara/Documents/GitHub/Python-Sara-Gunnars/Code-alongs/L7-error-handlings.ipynb#W0sZmlsZQ%3D%3D?line=0'>1</a>\u001b[0m \u001b[39m# syntax error\u001b[39;00m\n\u001b[1;32m----> <a href='vscode-notebook-cell:/c%3A/Users/Sara/Documents/GitHub/Python-Sara-Gunnars/Code-alongs/L7-error-handlings.ipynb#W0sZmlsZQ%3D%3D?line=1'>2</a>\u001b[0m prin (\u001b[39m\"\u001b[39m\u001b[39mhej hej\u001b[39m\u001b[39m\"\u001b[39m)\n",
      "\u001b[1;31mNameError\u001b[0m: name 'prin' is not defined"
     ]
    }
   ],
   "source": [
    "# syntax error\n",
    "prin (\"hej hej\")"
   ]
  },
  {
   "cell_type": "code",
   "execution_count": 3,
   "metadata": {},
   "outputs": [
    {
     "name": "stdout",
     "output_type": "stream",
     "text": [
      "hej, den här koden fungerar\n"
     ]
    }
   ],
   "source": [
    "print(\"hej, den här koden fungerar\")"
   ]
  },
  {
   "cell_type": "code",
   "execution_count": 6,
   "metadata": {},
   "outputs": [
    {
     "name": "stdout",
     "output_type": "stream",
     "text": [
      "Start function 1\n",
      "start function 2\n"
     ]
    }
   ],
   "source": [
    "def func1():\n",
    "    print(\"Start function 1\")\n",
    "    func2()\n",
    "\n",
    "def func2():\n",
    "    print(\"start function 2\")\n",
    "\n",
    "def func3():\n",
    "    print(\"Start function 3\")\n",
    "    3/0\n",
    "\n",
    "func1()"
   ]
  }
 ],
 "metadata": {
  "kernelspec": {
   "display_name": "Python 3.9.13 ('Python-Sara-Gunnars-Wt0nYGj6')",
   "language": "python",
   "name": "python3"
  },
  "language_info": {
   "codemirror_mode": {
    "name": "ipython",
    "version": 3
   },
   "file_extension": ".py",
   "mimetype": "text/x-python",
   "name": "python",
   "nbconvert_exporter": "python",
   "pygments_lexer": "ipython3",
   "version": "3.9.13"
  },
  "orig_nbformat": 4,
  "vscode": {
   "interpreter": {
    "hash": "b2da62ab492949f6c765980742279830da6e46079a70cad53173e2beb9ccefa4"
   }
  }
 },
 "nbformat": 4,
 "nbformat_minor": 2
}
