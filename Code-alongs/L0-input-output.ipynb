{
 "cells": [
  {
   "cell_type": "markdown",
   "metadata": {},
   "source": [
    "# Code along - input - output"
   ]
  },
  {
   "cell_type": "code",
   "execution_count": 1,
   "metadata": {},
   "outputs": [
    {
     "name": "stdout",
     "output_type": "stream",
     "text": [
      "Hej Sara, du är 27 år gammal\n"
     ]
    }
   ],
   "source": [
    "# Variable - data type string\n",
    "name = \"Sara\"\n",
    "\n",
    "# Variable - data type float\n",
    "age = 27\n",
    "# This is an f-string (formatted string)\n",
    "print(f\"Hej {name}, du är {age} år gammal\")"
   ]
  },
  {
   "cell_type": "markdown",
   "metadata": {},
   "source": [
    "## Inputs from user"
   ]
  },
  {
   "cell_type": "code",
   "execution_count": 3,
   "metadata": {},
   "outputs": [
    {
     "name": "stdout",
     "output_type": "stream",
     "text": [
      "Hello Sara, you are 27 years old\n"
     ]
    }
   ],
   "source": [
    "name = input(\"What is your name?\")\n",
    "age = input(\"How old are you?\")\n",
    "\n",
    "print(f\"Hello {name}, you are {age} years old\")"
   ]
  },
  {
   "cell_type": "markdown",
   "metadata": {},
   "source": [
    "## Calculations"
   ]
  },
  {
   "cell_type": "code",
   "execution_count": 7,
   "metadata": {},
   "outputs": [
    {
     "name": "stdout",
     "output_type": "stream",
     "text": [
      "Your force is 608.84 N\n"
     ]
    }
   ],
   "source": [
    "gravity = 9.82  \n",
    "mass = 62\n",
    "\n",
    "force = mass*gravity\n",
    "\n",
    "print(f\"Your force is {force} N\")"
   ]
  }
 ],
 "metadata": {
  "kernelspec": {
   "display_name": "Python 3.9.13 ('Python-Sara-Gunnars-Wt0nYGj6')",
   "language": "python",
   "name": "python3"
  },
  "language_info": {
   "codemirror_mode": {
    "name": "ipython",
    "version": 3
   },
   "file_extension": ".py",
   "mimetype": "text/x-python",
   "name": "python",
   "nbconvert_exporter": "python",
   "pygments_lexer": "ipython3",
   "version": "3.9.13"
  },
  "orig_nbformat": 4,
  "vscode": {
   "interpreter": {
    "hash": "b2da62ab492949f6c765980742279830da6e46079a70cad53173e2beb9ccefa4"
   }
  }
 },
 "nbformat": 4,
 "nbformat_minor": 2
}
