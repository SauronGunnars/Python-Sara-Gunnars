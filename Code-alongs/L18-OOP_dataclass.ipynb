{
 "cells": [
  {
   "cell_type": "markdown",
   "metadata": {},
   "source": [
    "# Dataclass \n",
    "\n",
    "- gives us som boilerplate code for free \n",
    "- usually used for classes that stors alot of data\n",
    "- in method heavy classes, dataclass might not help much\n",
    "\n",
    "gives free_\n",
    "- `__init__()`\n",
    "- `__repr__()`\n",
    "- `__eg__()`\n",
    "- and more"
   ]
  },
  {
   "cell_type": "code",
   "execution_count": 15,
   "metadata": {},
   "outputs": [
    {
     "name": "stdout",
     "output_type": "stream",
     "text": [
      "__init__() missing 1 required positional argument: 'value'\n",
      "Prefix(value=42, unit='unit', prefix_symbol=None)\n"
     ]
    }
   ],
   "source": [
    "from __future__ import annotations\n",
    "from dataclasses import dataclass\n",
    "\n",
    "\n",
    "@dataclass\n",
    "class Prefix:\n",
    "    #fields will go into the automatically generated __init__(), __repr__()\n",
    "    # fields - variable: type annotation \n",
    "    value: int|float # positional argument (has no default value)\n",
    "    unit: str = \"unit\" # keyword argument (has a default value)\n",
    "    prefix_symbol: str = None\n",
    "\n",
    "    #bare class attributes, they are not in__init__() or __repr__()\n",
    "    #note they don't have type annotation so they are not fields\n",
    "    symbols = \"T G M k h d c m μ n p\".split()\n",
    "    names = \"tera giga mega kilo hekto deci centi milli mikro nano piko\".split()\n",
    "    values = (10**1 for i in (12,9,6,3,2,-1,-2,-3,-6,-9,-12))\n",
    "\n",
    "@property\n",
    "def value(self):\n",
    "    print(\"Value setter\")\n",
    "    return self.value\n",
    "\n",
    "@value.setter\n",
    "def value(self,value):\n",
    "    print(\"value setter\")\n",
    "    if not isinstance(value, (float,int)):\n",
    "        raise TypeError(f\"value must be int or float not{type(value).__name__}\")\n",
    "        self._value = value\n",
    "\n",
    "\n",
    "try:\n",
    "    p1 = Prefix()\n",
    "except TypeError as err:\n",
    "    print(err)\n",
    "\n",
    "p1 = Prefix(42)\n",
    "print(p1)\n"
   ]
  }
 ],
 "metadata": {
  "kernelspec": {
   "display_name": "Python 3.9.13 ('Python-Sara-Gunnars-Wt0nYGj6')",
   "language": "python",
   "name": "python3"
  },
  "language_info": {
   "codemirror_mode": {
    "name": "ipython",
    "version": 3
   },
   "file_extension": ".py",
   "mimetype": "text/x-python",
   "name": "python",
   "nbconvert_exporter": "python",
   "pygments_lexer": "ipython3",
   "version": "3.9.13"
  },
  "orig_nbformat": 4,
  "vscode": {
   "interpreter": {
    "hash": "b2da62ab492949f6c765980742279830da6e46079a70cad53173e2beb9ccefa4"
   }
  }
 },
 "nbformat": 4,
 "nbformat_minor": 2
}
