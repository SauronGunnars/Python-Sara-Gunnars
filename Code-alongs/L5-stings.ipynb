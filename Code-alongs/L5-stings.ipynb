{
 "cells": [
  {
   "cell_type": "markdown",
   "metadata": {},
   "source": [
    "# Strings"
   ]
  },
  {
   "cell_type": "code",
   "execution_count": 10,
   "metadata": {},
   "outputs": [
    {
     "name": "stdout",
     "output_type": "stream",
     "text": [
      "Sara Gunnars\n",
      "\n",
      "Name: Sara Gunnars\n",
      "Age: 27\n",
      "Adress: Gbg\n",
      "Phone: 112\n",
      "\n"
     ]
    }
   ],
   "source": [
    "firstname = \"Sara\"\n",
    "lastname = \"Gunnars\"\n",
    "\n",
    "# concatenate stings (sätta ihop strängar)\n",
    "name = firstname +\" \"+ lastname\n",
    "age = 27\n",
    "adress = \"Gbg\" \n",
    "phone = 112\n",
    "\n",
    "print(name)\n",
    "\n",
    "# mulitline f strings\n",
    "contact = f\"\"\"\n",
    "Name: {name}\n",
    "Age: {age}\n",
    "Adress: {adress}\n",
    "Phone: {phone}\n",
    "\"\"\"\n",
    "\n",
    "print(contact)"
   ]
  },
  {
   "cell_type": "markdown",
   "metadata": {},
   "source": [
    "### Zip funktion, går igenom flera listor samtidigt"
   ]
  },
  {
   "cell_type": "code",
   "execution_count": 17,
   "metadata": {},
   "outputs": [
    {
     "name": "stdout",
     "output_type": "stream",
     "text": [
      "Plan \n",
      "Måndag: AI intro\n",
      "Tisdag: Python\n",
      "Onsdag: Matte\n",
      "Torsdag: Självplugg\n",
      "Fredag: Chilla\n",
      "\n"
     ]
    }
   ],
   "source": [
    "schedule = [\"AI intro\", \"Python\", \"Matte\", \"Självplugg\", \"Chilla\"]\n",
    "days = [\"Måndag\", \"Tisdag\", \"Onsdag\", \"Torsdag\", \"Fredag\"]\n",
    "\n",
    "week_plan = \"Plan \\n\"\n",
    "\n",
    "# Plan\n",
    "# Måndag: Ai intro\n",
    "# Tisdag: Python\n",
    "# ...\n",
    "\n",
    "for day, task in zip(days, schedule):\n",
    "    week_plan += f\"{day}: {task}\\n\"\n",
    "\n",
    "print(week_plan)\n"
   ]
  },
  {
   "cell_type": "markdown",
   "metadata": {},
   "source": [
    "## Indexing"
   ]
  },
  {
   "cell_type": "code",
   "execution_count": 23,
   "metadata": {},
   "outputs": [
    {
     "name": "stdout",
     "output_type": "stream",
     "text": [
      "quote[0]='!'\n",
      "quote[:6]='!False'\n"
     ]
    }
   ],
   "source": [
    "quote = \"!False - it's funny because it's true\"\n",
    "\n",
    "print(f\"{quote[0]=}\")\n",
    "print(f\"{quote[:6]=}\")"
   ]
  },
  {
   "cell_type": "markdown",
   "metadata": {},
   "source": [
    "## Split strings"
   ]
  },
  {
   "cell_type": "code",
   "execution_count": 5,
   "metadata": {},
   "outputs": [
    {
     "name": "stdout",
     "output_type": "stream",
     "text": [
      "[1.0, 2.0, 3.0]\n",
      "mean_value = 2.0\n"
     ]
    }
   ],
   "source": [
    "numbers = input(\"Ange tre tal (separerade med kommatecken): \")\n",
    "\n",
    "# 1. split the string into list with 3 numbers \n",
    "# 2. type convert each string into float by iterating throught the list\n",
    "\n",
    "# konverterar till float istället för string så vi kan räkna med talen\n",
    "numbers = [float(number) for number in numbers.split(\",\")]\n",
    "\n",
    "# beräknar medelvärdet av de tre talen\n",
    "print(f\"{numbers}\")\n",
    "mean_value = sum(numbers)/len(numbers)\n",
    "print(f\"{mean_value = }\")"
   ]
  },
  {
   "cell_type": "markdown",
   "metadata": {},
   "source": [
    "## Regular expression - se w3schools: python RegEx\n",
    "- find patterns in a string (phone number, emails, capital letters and so on)"
   ]
  },
  {
   "cell_type": "code",
   "execution_count": 11,
   "metadata": {},
   "outputs": [
    {
     "name": "stdout",
     "output_type": "stream",
     "text": [
      "['073-140534', '073-530569', '754-648465']\n",
      "['073-140534', '073-530569', '754-648465']\n"
     ]
    }
   ],
   "source": [
    "import re # imports regular expressions\n",
    "\n",
    "text = \"Mitt telefonnummer är 073-140534, Adas nummer är 073-530569, Bertils nummer är 0754-648465\"\n",
    "\n",
    "# extrahera the numbers\n",
    "# nedan söker på \"pattern\" i detta fall digits, och sedan i vilken sträng (text)\n",
    "match1 = re.findall(r\"\\d\\d\\d-\\d\\d\\d\\d\\d\\d\", text) # r står för raw string\n",
    "\n",
    "print(match1)\n",
    "\n",
    "# kortare sätt att göra samma sökning som ovan\n",
    "match2 = re.findall(r\"\\d{3}-\\d{6}\", text)\n",
    "print(match2)\n"
   ]
  },
  {
   "cell_type": "code",
   "execution_count": 12,
   "metadata": {},
   "outputs": [
    {
     "name": "stdout",
     "output_type": "stream",
     "text": [
      "['katt', ' att', 'hatt']\n"
     ]
    }
   ],
   "source": [
    "text = \"Det var en gång en katt, han gillade grädde och att bära hatt\"\n",
    "\n",
    "match = re.findall(r\".att\", text) #sökning som tar fram matchning som innehåller att\n",
    "print(match)"
   ]
  }
 ],
 "metadata": {
  "kernelspec": {
   "display_name": "Python 3.9.13 ('Python-Sara-Gunnars-Wt0nYGj6')",
   "language": "python",
   "name": "python3"
  },
  "language_info": {
   "codemirror_mode": {
    "name": "ipython",
    "version": 3
   },
   "file_extension": ".py",
   "mimetype": "text/x-python",
   "name": "python",
   "nbconvert_exporter": "python",
   "pygments_lexer": "ipython3",
   "version": "3.9.13"
  },
  "orig_nbformat": 4,
  "vscode": {
   "interpreter": {
    "hash": "b2da62ab492949f6c765980742279830da6e46079a70cad53173e2beb9ccefa4"
   }
  }
 },
 "nbformat": 4,
 "nbformat_minor": 2
}
