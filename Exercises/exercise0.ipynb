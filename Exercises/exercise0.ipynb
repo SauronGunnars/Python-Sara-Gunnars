{
 "cells": [
  {
   "cell_type": "markdown",
   "metadata": {},
   "source": [
    "# 1. Pythagorean theorem\n",
    "\n",
    "### A) A right angled triangle has the catheti: a = 3 and b = 4 length units. Compute the hypothenuse of the triangle."
   ]
  },
  {
   "cell_type": "code",
   "execution_count": 15,
   "metadata": {},
   "outputs": [
    {
     "name": "stdout",
     "output_type": "stream",
     "text": [
      "The hypothenuse is 5.0\n"
     ]
    }
   ],
   "source": [
    "# a^2+b^2=c^2\n",
    "\n",
    "import math \n",
    "\n",
    "a=3\n",
    "b=4\n",
    "c=0\n",
    "\n",
    "c= (a**2)+(b**2)\n",
    "\n",
    "print(f\"The hypothenuse is {math.sqrt(c)}\")\n"
   ]
  },
  {
   "cell_type": "markdown",
   "metadata": {},
   "source": [
    "### B)  A right angled triangle has hypothenuse c = 7.0 and a cathetus a = 5.0 length units. Compute the other cathetus and round to one decimal."
   ]
  },
  {
   "cell_type": "code",
   "execution_count": 40,
   "metadata": {},
   "outputs": [
    {
     "name": "stdout",
     "output_type": "stream",
     "text": [
      "The b cathetus is: 4.9\n"
     ]
    }
   ],
   "source": [
    " import math\n",
    " \n",
    "a=5\n",
    "b=0\n",
    "c=7\n",
    "\n",
    "b = (c**2) - (a**2)\n",
    "print (f\"The b cathetus is: {math.sqrt(b):.1f}\")\n"
   ]
  },
  {
   "cell_type": "markdown",
   "metadata": {},
   "source": [
    "## 2. Classification accuracy\n",
    "- A machine learning algorithm has been trained to predict whether or not it would rain the next day. Out of 365 predictions, it got 300 correct, compute the accuracy of this model."
   ]
  },
  {
   "cell_type": "code",
   "execution_count": 44,
   "metadata": {},
   "outputs": [
    {
     "name": "stdout",
     "output_type": "stream",
     "text": [
      "82.2%\n"
     ]
    }
   ],
   "source": [
    "predictions = 365\n",
    "correct = 300\n",
    "\n",
    "percentage = (correct/predictions)*100\n",
    "\n",
    "print(f\"{percentage:.1f}%\")"
   ]
  },
  {
   "cell_type": "markdown",
   "metadata": {},
   "source": [
    "## 3. Classification accuracy"
   ]
  },
  {
   "cell_type": "code",
   "execution_count": 47,
   "metadata": {},
   "outputs": [
    {
     "name": "stdout",
     "output_type": "stream",
     "text": [
      "The accuracy of this model is: 0.987, therefore the model is good\n"
     ]
    }
   ],
   "source": [
    "tp = 2\n",
    "fp = 2\n",
    "fn = 11\n",
    "tn = 985\n",
    "accuracy = 0\n",
    "\n",
    "# accuracy = (tp+ tn)/ tp+tn+fp+fn\n",
    "accuracy = (tp+tn)/(tp+tn+fp+fn)\n",
    "\n",
    "print (f\"The accuracy of this model is: {accuracy}, therefore the model is good\")\n"
   ]
  },
  {
   "cell_type": "markdown",
   "metadata": {},
   "source": [
    "# 4. Line"
   ]
  },
  {
   "cell_type": "code",
   "execution_count": 58,
   "metadata": {},
   "outputs": [
    {
     "name": "stdout",
     "output_type": "stream",
     "text": [
      "K: 0.75\n",
      "M: -1.0\n"
     ]
    }
   ],
   "source": [
    "# calculate k and m using the stated information\n",
    "# x points: 4a,0b\n",
    "# y points: 4a, 1b\n",
    "\n",
    "\n",
    "k = 0\n",
    "m= 0 \n",
    "x1 = 4\n",
    "x2 = 0\n",
    "y1 = 4\n",
    "y2 = 1\n",
    "\n",
    "# k = y2-y1 / x2-x1\n",
    "k = (y2-y1) / (x2-x1)\n",
    "\n",
    "print(f\"K: {k}\")\n",
    "\n",
    "#f(y) = kx + m \n",
    "m = ((k*x1)-y1)\n",
    "\n",
    "print(f\"M: {m}\")\n",
    "\n",
    "\n",
    "\n"
   ]
  }
 ],
 "metadata": {
  "kernelspec": {
   "display_name": "Python 3.9.13 ('Python-Sara-Gunnars-Wt0nYGj6')",
   "language": "python",
   "name": "python3"
  },
  "language_info": {
   "codemirror_mode": {
    "name": "ipython",
    "version": 3
   },
   "file_extension": ".py",
   "mimetype": "text/x-python",
   "name": "python",
   "nbconvert_exporter": "python",
   "pygments_lexer": "ipython3",
   "version": "3.9.13"
  },
  "orig_nbformat": 4,
  "vscode": {
   "interpreter": {
    "hash": "b2da62ab492949f6c765980742279830da6e46079a70cad53173e2beb9ccefa4"
   }
  }
 },
 "nbformat": 4,
 "nbformat_minor": 2
}
