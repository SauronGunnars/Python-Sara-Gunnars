{
 "cells": [
  {
   "cell_type": "markdown",
   "metadata": {},
   "source": [
    "# Pythagorean theorem\n",
    "\n",
    "### A) A right angled triangle has the catheti: a = 3 and b = 4 length units. Compute the hypothenuse of the triangle."
   ]
  },
  {
   "cell_type": "code",
   "execution_count": 15,
   "metadata": {},
   "outputs": [
    {
     "name": "stdout",
     "output_type": "stream",
     "text": [
      "The hypothenuse is 5.0\n"
     ]
    }
   ],
   "source": [
    "# a^2+b^2=c^2\n",
    "\n",
    "import math \n",
    "\n",
    "a=3\n",
    "b=4\n",
    "c=0\n",
    "\n",
    "c= (a**2)+(b**2)\n",
    "\n",
    "print(f\"The hypothenuse is {math.sqrt(c)}\")\n"
   ]
  },
  {
   "cell_type": "markdown",
   "metadata": {},
   "source": [
    "### B)  A right angled triangle has hypothenuse c = 7.0 and a cathetus a = 5.0 length units. Compute the other cathetus and round to one decimal."
   ]
  },
  {
   "cell_type": "code",
   "execution_count": 39,
   "metadata": {},
   "outputs": [
    {
     "name": "stdout",
     "output_type": "stream",
     "text": [
      "The b cathetus is: 4.9\n"
     ]
    }
   ],
   "source": [
    " import math\n",
    "a=5\n",
    "b=0\n",
    "c=7\n",
    "\n",
    "b = (c**2) - (a**2)\n",
    "print (f\"The b cathetus is: {math.sqrt(b):.1f}\")\n"
   ]
  }
 ],
 "metadata": {
  "kernelspec": {
   "display_name": "Python 3.9.13 ('Python-Sara-Gunnars-Wt0nYGj6')",
   "language": "python",
   "name": "python3"
  },
  "language_info": {
   "codemirror_mode": {
    "name": "ipython",
    "version": 3
   },
   "file_extension": ".py",
   "mimetype": "text/x-python",
   "name": "python",
   "nbconvert_exporter": "python",
   "pygments_lexer": "ipython3",
   "version": "3.9.13"
  },
  "orig_nbformat": 4,
  "vscode": {
   "interpreter": {
    "hash": "b2da62ab492949f6c765980742279830da6e46079a70cad53173e2beb9ccefa4"
   }
  }
 },
 "nbformat": 4,
 "nbformat_minor": 2
}
